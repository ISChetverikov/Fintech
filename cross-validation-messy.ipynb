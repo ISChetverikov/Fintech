{
 "cells": [
  {
   "cell_type": "markdown",
   "metadata": {},
   "source": [
    "# Загрузка данных"
   ]
  },
  {
   "cell_type": "markdown",
   "metadata": {},
   "source": [
    "Мы будем использовать [выборку Bank Marketing](https://quiltdata.com/package/uciml/bank).\n",
    "Объектом в выборке является клиент банка, которому совершался звонок с предложением депозитного продукта.\n",
    "Целевая переменная – согласие на продукт.\n",
    "\n",
    "Для загрузки данных воспользуемся библиотекой [quilt](https://quiltdata.com).\n",
    "\n",
    "```bash\n",
    "pip install quilt\n",
    "```"
   ]
  },
  {
   "cell_type": "code",
   "execution_count": 1,
   "metadata": {},
   "outputs": [
    {
     "data": {
      "text/html": [
       "<div>\n",
       "<style scoped>\n",
       "    .dataframe tbody tr th:only-of-type {\n",
       "        vertical-align: middle;\n",
       "    }\n",
       "\n",
       "    .dataframe tbody tr th {\n",
       "        vertical-align: top;\n",
       "    }\n",
       "\n",
       "    .dataframe thead th {\n",
       "        text-align: right;\n",
       "    }\n",
       "</style>\n",
       "<table border=\"1\" class=\"dataframe\">\n",
       "  <thead>\n",
       "    <tr style=\"text-align: right;\">\n",
       "      <th></th>\n",
       "      <th>age</th>\n",
       "      <th>job</th>\n",
       "      <th>marital</th>\n",
       "      <th>education</th>\n",
       "      <th>default</th>\n",
       "      <th>balance</th>\n",
       "      <th>housing</th>\n",
       "      <th>loan</th>\n",
       "      <th>contact</th>\n",
       "      <th>day</th>\n",
       "      <th>month</th>\n",
       "      <th>duration</th>\n",
       "      <th>campaign</th>\n",
       "      <th>pdays</th>\n",
       "      <th>previous</th>\n",
       "      <th>poutcome</th>\n",
       "      <th>y</th>\n",
       "    </tr>\n",
       "  </thead>\n",
       "  <tbody>\n",
       "    <tr>\n",
       "      <th>0</th>\n",
       "      <td>58</td>\n",
       "      <td>management</td>\n",
       "      <td>married</td>\n",
       "      <td>tertiary</td>\n",
       "      <td>no</td>\n",
       "      <td>2143</td>\n",
       "      <td>yes</td>\n",
       "      <td>no</td>\n",
       "      <td>unknown</td>\n",
       "      <td>5</td>\n",
       "      <td>may</td>\n",
       "      <td>261</td>\n",
       "      <td>1</td>\n",
       "      <td>-1</td>\n",
       "      <td>0</td>\n",
       "      <td>unknown</td>\n",
       "      <td>no</td>\n",
       "    </tr>\n",
       "    <tr>\n",
       "      <th>1</th>\n",
       "      <td>44</td>\n",
       "      <td>technician</td>\n",
       "      <td>single</td>\n",
       "      <td>secondary</td>\n",
       "      <td>no</td>\n",
       "      <td>29</td>\n",
       "      <td>yes</td>\n",
       "      <td>no</td>\n",
       "      <td>unknown</td>\n",
       "      <td>5</td>\n",
       "      <td>may</td>\n",
       "      <td>151</td>\n",
       "      <td>1</td>\n",
       "      <td>-1</td>\n",
       "      <td>0</td>\n",
       "      <td>unknown</td>\n",
       "      <td>no</td>\n",
       "    </tr>\n",
       "    <tr>\n",
       "      <th>2</th>\n",
       "      <td>33</td>\n",
       "      <td>entrepreneur</td>\n",
       "      <td>married</td>\n",
       "      <td>secondary</td>\n",
       "      <td>no</td>\n",
       "      <td>2</td>\n",
       "      <td>yes</td>\n",
       "      <td>yes</td>\n",
       "      <td>unknown</td>\n",
       "      <td>5</td>\n",
       "      <td>may</td>\n",
       "      <td>76</td>\n",
       "      <td>1</td>\n",
       "      <td>-1</td>\n",
       "      <td>0</td>\n",
       "      <td>unknown</td>\n",
       "      <td>no</td>\n",
       "    </tr>\n",
       "    <tr>\n",
       "      <th>3</th>\n",
       "      <td>47</td>\n",
       "      <td>blue-collar</td>\n",
       "      <td>married</td>\n",
       "      <td>unknown</td>\n",
       "      <td>no</td>\n",
       "      <td>1506</td>\n",
       "      <td>yes</td>\n",
       "      <td>no</td>\n",
       "      <td>unknown</td>\n",
       "      <td>5</td>\n",
       "      <td>may</td>\n",
       "      <td>92</td>\n",
       "      <td>1</td>\n",
       "      <td>-1</td>\n",
       "      <td>0</td>\n",
       "      <td>unknown</td>\n",
       "      <td>no</td>\n",
       "    </tr>\n",
       "    <tr>\n",
       "      <th>4</th>\n",
       "      <td>33</td>\n",
       "      <td>unknown</td>\n",
       "      <td>single</td>\n",
       "      <td>unknown</td>\n",
       "      <td>no</td>\n",
       "      <td>1</td>\n",
       "      <td>no</td>\n",
       "      <td>no</td>\n",
       "      <td>unknown</td>\n",
       "      <td>5</td>\n",
       "      <td>may</td>\n",
       "      <td>198</td>\n",
       "      <td>1</td>\n",
       "      <td>-1</td>\n",
       "      <td>0</td>\n",
       "      <td>unknown</td>\n",
       "      <td>no</td>\n",
       "    </tr>\n",
       "  </tbody>\n",
       "</table>\n",
       "</div>"
      ],
      "text/plain": [
       "   age           job  marital  education default  balance housing loan  \\\n",
       "0   58    management  married   tertiary      no     2143     yes   no   \n",
       "1   44    technician   single  secondary      no       29     yes   no   \n",
       "2   33  entrepreneur  married  secondary      no        2     yes  yes   \n",
       "3   47   blue-collar  married    unknown      no     1506     yes   no   \n",
       "4   33       unknown   single    unknown      no        1      no   no   \n",
       "\n",
       "   contact  day month  duration  campaign  pdays  previous poutcome   y  \n",
       "0  unknown    5   may       261         1     -1         0  unknown  no  \n",
       "1  unknown    5   may       151         1     -1         0  unknown  no  \n",
       "2  unknown    5   may        76         1     -1         0  unknown  no  \n",
       "3  unknown    5   may        92         1     -1         0  unknown  no  \n",
       "4  unknown    5   may       198         1     -1         0  unknown  no  "
      ]
     },
     "execution_count": 1,
     "metadata": {},
     "output_type": "execute_result"
    }
   ],
   "source": [
    "# Для первой загрузки\n",
    "# import quilt\n",
    "# quilt.install('uciml/bank')\n",
    "from quilt.data.uciml import bank\n",
    "\n",
    "bank_full = bank.tables.bank_full()\n",
    "bank_full.head()"
   ]
  },
  {
   "cell_type": "code",
   "execution_count": 2,
   "metadata": {},
   "outputs": [
    {
     "data": {
      "text/plain": [
       "cellular     29285\n",
       "unknown      13020\n",
       "telephone     2906\n",
       "Name: contact, dtype: int64"
      ]
     },
     "execution_count": 2,
     "metadata": {},
     "output_type": "execute_result"
    }
   ],
   "source": [
    "bank_full.contact.value_counts()"
   ]
  },
  {
   "cell_type": "markdown",
   "metadata": {},
   "source": [
    "# Подготовка данных"
   ]
  },
  {
   "cell_type": "code",
   "execution_count": 3,
   "metadata": {},
   "outputs": [
    {
     "data": {
      "text/plain": [
       "age           int64\n",
       "job          object\n",
       "marital      object\n",
       "education    object\n",
       "default      object\n",
       "balance       int64\n",
       "housing      object\n",
       "loan         object\n",
       "contact      object\n",
       "day           int64\n",
       "month        object\n",
       "duration      int64\n",
       "campaign      int64\n",
       "pdays         int64\n",
       "previous      int64\n",
       "poutcome     object\n",
       "y            object\n",
       "dtype: object"
      ]
     },
     "execution_count": 3,
     "metadata": {},
     "output_type": "execute_result"
    }
   ],
   "source": [
    "bank_full.dtypes"
   ]
  },
  {
   "cell_type": "code",
   "execution_count": 4,
   "metadata": {},
   "outputs": [
    {
     "data": {
      "text/html": [
       "<div>\n",
       "<style scoped>\n",
       "    .dataframe tbody tr th:only-of-type {\n",
       "        vertical-align: middle;\n",
       "    }\n",
       "\n",
       "    .dataframe tbody tr th {\n",
       "        vertical-align: top;\n",
       "    }\n",
       "\n",
       "    .dataframe thead th {\n",
       "        text-align: right;\n",
       "    }\n",
       "</style>\n",
       "<table border=\"1\" class=\"dataframe\">\n",
       "  <thead>\n",
       "    <tr style=\"text-align: right;\">\n",
       "      <th></th>\n",
       "      <th>age</th>\n",
       "      <th>balance</th>\n",
       "      <th>campaign</th>\n",
       "      <th>pdays</th>\n",
       "      <th>previous</th>\n",
       "    </tr>\n",
       "  </thead>\n",
       "  <tbody>\n",
       "    <tr>\n",
       "      <th>0</th>\n",
       "      <td>58</td>\n",
       "      <td>2143</td>\n",
       "      <td>1</td>\n",
       "      <td>-1</td>\n",
       "      <td>0</td>\n",
       "    </tr>\n",
       "    <tr>\n",
       "      <th>1</th>\n",
       "      <td>44</td>\n",
       "      <td>29</td>\n",
       "      <td>1</td>\n",
       "      <td>-1</td>\n",
       "      <td>0</td>\n",
       "    </tr>\n",
       "    <tr>\n",
       "      <th>2</th>\n",
       "      <td>33</td>\n",
       "      <td>2</td>\n",
       "      <td>1</td>\n",
       "      <td>-1</td>\n",
       "      <td>0</td>\n",
       "    </tr>\n",
       "    <tr>\n",
       "      <th>3</th>\n",
       "      <td>47</td>\n",
       "      <td>1506</td>\n",
       "      <td>1</td>\n",
       "      <td>-1</td>\n",
       "      <td>0</td>\n",
       "    </tr>\n",
       "    <tr>\n",
       "      <th>4</th>\n",
       "      <td>33</td>\n",
       "      <td>1</td>\n",
       "      <td>1</td>\n",
       "      <td>-1</td>\n",
       "      <td>0</td>\n",
       "    </tr>\n",
       "    <tr>\n",
       "      <th>5</th>\n",
       "      <td>35</td>\n",
       "      <td>231</td>\n",
       "      <td>1</td>\n",
       "      <td>-1</td>\n",
       "      <td>0</td>\n",
       "    </tr>\n",
       "    <tr>\n",
       "      <th>6</th>\n",
       "      <td>28</td>\n",
       "      <td>447</td>\n",
       "      <td>1</td>\n",
       "      <td>-1</td>\n",
       "      <td>0</td>\n",
       "    </tr>\n",
       "    <tr>\n",
       "      <th>7</th>\n",
       "      <td>42</td>\n",
       "      <td>2</td>\n",
       "      <td>1</td>\n",
       "      <td>-1</td>\n",
       "      <td>0</td>\n",
       "    </tr>\n",
       "    <tr>\n",
       "      <th>8</th>\n",
       "      <td>58</td>\n",
       "      <td>121</td>\n",
       "      <td>1</td>\n",
       "      <td>-1</td>\n",
       "      <td>0</td>\n",
       "    </tr>\n",
       "    <tr>\n",
       "      <th>9</th>\n",
       "      <td>43</td>\n",
       "      <td>593</td>\n",
       "      <td>1</td>\n",
       "      <td>-1</td>\n",
       "      <td>0</td>\n",
       "    </tr>\n",
       "    <tr>\n",
       "      <th>10</th>\n",
       "      <td>41</td>\n",
       "      <td>270</td>\n",
       "      <td>1</td>\n",
       "      <td>-1</td>\n",
       "      <td>0</td>\n",
       "    </tr>\n",
       "    <tr>\n",
       "      <th>11</th>\n",
       "      <td>29</td>\n",
       "      <td>390</td>\n",
       "      <td>1</td>\n",
       "      <td>-1</td>\n",
       "      <td>0</td>\n",
       "    </tr>\n",
       "    <tr>\n",
       "      <th>12</th>\n",
       "      <td>53</td>\n",
       "      <td>6</td>\n",
       "      <td>1</td>\n",
       "      <td>-1</td>\n",
       "      <td>0</td>\n",
       "    </tr>\n",
       "    <tr>\n",
       "      <th>13</th>\n",
       "      <td>58</td>\n",
       "      <td>71</td>\n",
       "      <td>1</td>\n",
       "      <td>-1</td>\n",
       "      <td>0</td>\n",
       "    </tr>\n",
       "    <tr>\n",
       "      <th>14</th>\n",
       "      <td>57</td>\n",
       "      <td>162</td>\n",
       "      <td>1</td>\n",
       "      <td>-1</td>\n",
       "      <td>0</td>\n",
       "    </tr>\n",
       "    <tr>\n",
       "      <th>15</th>\n",
       "      <td>51</td>\n",
       "      <td>229</td>\n",
       "      <td>1</td>\n",
       "      <td>-1</td>\n",
       "      <td>0</td>\n",
       "    </tr>\n",
       "    <tr>\n",
       "      <th>16</th>\n",
       "      <td>45</td>\n",
       "      <td>13</td>\n",
       "      <td>1</td>\n",
       "      <td>-1</td>\n",
       "      <td>0</td>\n",
       "    </tr>\n",
       "    <tr>\n",
       "      <th>17</th>\n",
       "      <td>57</td>\n",
       "      <td>52</td>\n",
       "      <td>1</td>\n",
       "      <td>-1</td>\n",
       "      <td>0</td>\n",
       "    </tr>\n",
       "    <tr>\n",
       "      <th>18</th>\n",
       "      <td>60</td>\n",
       "      <td>60</td>\n",
       "      <td>1</td>\n",
       "      <td>-1</td>\n",
       "      <td>0</td>\n",
       "    </tr>\n",
       "    <tr>\n",
       "      <th>19</th>\n",
       "      <td>33</td>\n",
       "      <td>0</td>\n",
       "      <td>1</td>\n",
       "      <td>-1</td>\n",
       "      <td>0</td>\n",
       "    </tr>\n",
       "    <tr>\n",
       "      <th>20</th>\n",
       "      <td>28</td>\n",
       "      <td>723</td>\n",
       "      <td>1</td>\n",
       "      <td>-1</td>\n",
       "      <td>0</td>\n",
       "    </tr>\n",
       "    <tr>\n",
       "      <th>21</th>\n",
       "      <td>56</td>\n",
       "      <td>779</td>\n",
       "      <td>1</td>\n",
       "      <td>-1</td>\n",
       "      <td>0</td>\n",
       "    </tr>\n",
       "    <tr>\n",
       "      <th>22</th>\n",
       "      <td>32</td>\n",
       "      <td>23</td>\n",
       "      <td>1</td>\n",
       "      <td>-1</td>\n",
       "      <td>0</td>\n",
       "    </tr>\n",
       "    <tr>\n",
       "      <th>23</th>\n",
       "      <td>25</td>\n",
       "      <td>50</td>\n",
       "      <td>1</td>\n",
       "      <td>-1</td>\n",
       "      <td>0</td>\n",
       "    </tr>\n",
       "    <tr>\n",
       "      <th>24</th>\n",
       "      <td>40</td>\n",
       "      <td>0</td>\n",
       "      <td>1</td>\n",
       "      <td>-1</td>\n",
       "      <td>0</td>\n",
       "    </tr>\n",
       "    <tr>\n",
       "      <th>25</th>\n",
       "      <td>44</td>\n",
       "      <td>-372</td>\n",
       "      <td>1</td>\n",
       "      <td>-1</td>\n",
       "      <td>0</td>\n",
       "    </tr>\n",
       "    <tr>\n",
       "      <th>26</th>\n",
       "      <td>39</td>\n",
       "      <td>255</td>\n",
       "      <td>1</td>\n",
       "      <td>-1</td>\n",
       "      <td>0</td>\n",
       "    </tr>\n",
       "    <tr>\n",
       "      <th>27</th>\n",
       "      <td>52</td>\n",
       "      <td>113</td>\n",
       "      <td>1</td>\n",
       "      <td>-1</td>\n",
       "      <td>0</td>\n",
       "    </tr>\n",
       "    <tr>\n",
       "      <th>28</th>\n",
       "      <td>46</td>\n",
       "      <td>-246</td>\n",
       "      <td>2</td>\n",
       "      <td>-1</td>\n",
       "      <td>0</td>\n",
       "    </tr>\n",
       "    <tr>\n",
       "      <th>29</th>\n",
       "      <td>36</td>\n",
       "      <td>265</td>\n",
       "      <td>1</td>\n",
       "      <td>-1</td>\n",
       "      <td>0</td>\n",
       "    </tr>\n",
       "    <tr>\n",
       "      <th>...</th>\n",
       "      <td>...</td>\n",
       "      <td>...</td>\n",
       "      <td>...</td>\n",
       "      <td>...</td>\n",
       "      <td>...</td>\n",
       "    </tr>\n",
       "    <tr>\n",
       "      <th>45181</th>\n",
       "      <td>46</td>\n",
       "      <td>6879</td>\n",
       "      <td>2</td>\n",
       "      <td>118</td>\n",
       "      <td>3</td>\n",
       "    </tr>\n",
       "    <tr>\n",
       "      <th>45182</th>\n",
       "      <td>34</td>\n",
       "      <td>133</td>\n",
       "      <td>2</td>\n",
       "      <td>187</td>\n",
       "      <td>5</td>\n",
       "    </tr>\n",
       "    <tr>\n",
       "      <th>45183</th>\n",
       "      <td>70</td>\n",
       "      <td>324</td>\n",
       "      <td>1</td>\n",
       "      <td>96</td>\n",
       "      <td>7</td>\n",
       "    </tr>\n",
       "    <tr>\n",
       "      <th>45184</th>\n",
       "      <td>63</td>\n",
       "      <td>1495</td>\n",
       "      <td>1</td>\n",
       "      <td>22</td>\n",
       "      <td>5</td>\n",
       "    </tr>\n",
       "    <tr>\n",
       "      <th>45185</th>\n",
       "      <td>60</td>\n",
       "      <td>4256</td>\n",
       "      <td>1</td>\n",
       "      <td>92</td>\n",
       "      <td>4</td>\n",
       "    </tr>\n",
       "    <tr>\n",
       "      <th>45186</th>\n",
       "      <td>59</td>\n",
       "      <td>1500</td>\n",
       "      <td>1</td>\n",
       "      <td>104</td>\n",
       "      <td>2</td>\n",
       "    </tr>\n",
       "    <tr>\n",
       "      <th>45187</th>\n",
       "      <td>32</td>\n",
       "      <td>1168</td>\n",
       "      <td>1</td>\n",
       "      <td>-1</td>\n",
       "      <td>0</td>\n",
       "    </tr>\n",
       "    <tr>\n",
       "      <th>45188</th>\n",
       "      <td>29</td>\n",
       "      <td>703</td>\n",
       "      <td>1</td>\n",
       "      <td>550</td>\n",
       "      <td>2</td>\n",
       "    </tr>\n",
       "    <tr>\n",
       "      <th>45189</th>\n",
       "      <td>25</td>\n",
       "      <td>199</td>\n",
       "      <td>1</td>\n",
       "      <td>92</td>\n",
       "      <td>5</td>\n",
       "    </tr>\n",
       "    <tr>\n",
       "      <th>45190</th>\n",
       "      <td>32</td>\n",
       "      <td>136</td>\n",
       "      <td>1</td>\n",
       "      <td>188</td>\n",
       "      <td>3</td>\n",
       "    </tr>\n",
       "    <tr>\n",
       "      <th>45191</th>\n",
       "      <td>75</td>\n",
       "      <td>3810</td>\n",
       "      <td>1</td>\n",
       "      <td>183</td>\n",
       "      <td>1</td>\n",
       "    </tr>\n",
       "    <tr>\n",
       "      <th>45192</th>\n",
       "      <td>29</td>\n",
       "      <td>765</td>\n",
       "      <td>1</td>\n",
       "      <td>-1</td>\n",
       "      <td>0</td>\n",
       "    </tr>\n",
       "    <tr>\n",
       "      <th>45193</th>\n",
       "      <td>28</td>\n",
       "      <td>159</td>\n",
       "      <td>2</td>\n",
       "      <td>33</td>\n",
       "      <td>4</td>\n",
       "    </tr>\n",
       "    <tr>\n",
       "      <th>45194</th>\n",
       "      <td>59</td>\n",
       "      <td>138</td>\n",
       "      <td>2</td>\n",
       "      <td>187</td>\n",
       "      <td>5</td>\n",
       "    </tr>\n",
       "    <tr>\n",
       "      <th>45195</th>\n",
       "      <td>68</td>\n",
       "      <td>1146</td>\n",
       "      <td>1</td>\n",
       "      <td>187</td>\n",
       "      <td>6</td>\n",
       "    </tr>\n",
       "    <tr>\n",
       "      <th>45196</th>\n",
       "      <td>25</td>\n",
       "      <td>358</td>\n",
       "      <td>1</td>\n",
       "      <td>-1</td>\n",
       "      <td>0</td>\n",
       "    </tr>\n",
       "    <tr>\n",
       "      <th>45197</th>\n",
       "      <td>36</td>\n",
       "      <td>1511</td>\n",
       "      <td>1</td>\n",
       "      <td>-1</td>\n",
       "      <td>0</td>\n",
       "    </tr>\n",
       "    <tr>\n",
       "      <th>45198</th>\n",
       "      <td>37</td>\n",
       "      <td>1428</td>\n",
       "      <td>2</td>\n",
       "      <td>-1</td>\n",
       "      <td>0</td>\n",
       "    </tr>\n",
       "    <tr>\n",
       "      <th>45199</th>\n",
       "      <td>34</td>\n",
       "      <td>1475</td>\n",
       "      <td>3</td>\n",
       "      <td>530</td>\n",
       "      <td>12</td>\n",
       "    </tr>\n",
       "    <tr>\n",
       "      <th>45200</th>\n",
       "      <td>38</td>\n",
       "      <td>557</td>\n",
       "      <td>4</td>\n",
       "      <td>-1</td>\n",
       "      <td>0</td>\n",
       "    </tr>\n",
       "    <tr>\n",
       "      <th>45201</th>\n",
       "      <td>53</td>\n",
       "      <td>583</td>\n",
       "      <td>1</td>\n",
       "      <td>184</td>\n",
       "      <td>4</td>\n",
       "    </tr>\n",
       "    <tr>\n",
       "      <th>45202</th>\n",
       "      <td>34</td>\n",
       "      <td>557</td>\n",
       "      <td>1</td>\n",
       "      <td>-1</td>\n",
       "      <td>0</td>\n",
       "    </tr>\n",
       "    <tr>\n",
       "      <th>45203</th>\n",
       "      <td>23</td>\n",
       "      <td>113</td>\n",
       "      <td>1</td>\n",
       "      <td>-1</td>\n",
       "      <td>0</td>\n",
       "    </tr>\n",
       "    <tr>\n",
       "      <th>45204</th>\n",
       "      <td>73</td>\n",
       "      <td>2850</td>\n",
       "      <td>1</td>\n",
       "      <td>40</td>\n",
       "      <td>8</td>\n",
       "    </tr>\n",
       "    <tr>\n",
       "      <th>45205</th>\n",
       "      <td>25</td>\n",
       "      <td>505</td>\n",
       "      <td>2</td>\n",
       "      <td>-1</td>\n",
       "      <td>0</td>\n",
       "    </tr>\n",
       "    <tr>\n",
       "      <th>45206</th>\n",
       "      <td>51</td>\n",
       "      <td>825</td>\n",
       "      <td>3</td>\n",
       "      <td>-1</td>\n",
       "      <td>0</td>\n",
       "    </tr>\n",
       "    <tr>\n",
       "      <th>45207</th>\n",
       "      <td>71</td>\n",
       "      <td>1729</td>\n",
       "      <td>2</td>\n",
       "      <td>-1</td>\n",
       "      <td>0</td>\n",
       "    </tr>\n",
       "    <tr>\n",
       "      <th>45208</th>\n",
       "      <td>72</td>\n",
       "      <td>5715</td>\n",
       "      <td>5</td>\n",
       "      <td>184</td>\n",
       "      <td>3</td>\n",
       "    </tr>\n",
       "    <tr>\n",
       "      <th>45209</th>\n",
       "      <td>57</td>\n",
       "      <td>668</td>\n",
       "      <td>4</td>\n",
       "      <td>-1</td>\n",
       "      <td>0</td>\n",
       "    </tr>\n",
       "    <tr>\n",
       "      <th>45210</th>\n",
       "      <td>37</td>\n",
       "      <td>2971</td>\n",
       "      <td>2</td>\n",
       "      <td>188</td>\n",
       "      <td>11</td>\n",
       "    </tr>\n",
       "  </tbody>\n",
       "</table>\n",
       "<p>45211 rows × 5 columns</p>\n",
       "</div>"
      ],
      "text/plain": [
       "       age  balance  campaign  pdays  previous\n",
       "0       58     2143         1     -1         0\n",
       "1       44       29         1     -1         0\n",
       "2       33        2         1     -1         0\n",
       "3       47     1506         1     -1         0\n",
       "4       33        1         1     -1         0\n",
       "5       35      231         1     -1         0\n",
       "6       28      447         1     -1         0\n",
       "7       42        2         1     -1         0\n",
       "8       58      121         1     -1         0\n",
       "9       43      593         1     -1         0\n",
       "10      41      270         1     -1         0\n",
       "11      29      390         1     -1         0\n",
       "12      53        6         1     -1         0\n",
       "13      58       71         1     -1         0\n",
       "14      57      162         1     -1         0\n",
       "15      51      229         1     -1         0\n",
       "16      45       13         1     -1         0\n",
       "17      57       52         1     -1         0\n",
       "18      60       60         1     -1         0\n",
       "19      33        0         1     -1         0\n",
       "20      28      723         1     -1         0\n",
       "21      56      779         1     -1         0\n",
       "22      32       23         1     -1         0\n",
       "23      25       50         1     -1         0\n",
       "24      40        0         1     -1         0\n",
       "25      44     -372         1     -1         0\n",
       "26      39      255         1     -1         0\n",
       "27      52      113         1     -1         0\n",
       "28      46     -246         2     -1         0\n",
       "29      36      265         1     -1         0\n",
       "...    ...      ...       ...    ...       ...\n",
       "45181   46     6879         2    118         3\n",
       "45182   34      133         2    187         5\n",
       "45183   70      324         1     96         7\n",
       "45184   63     1495         1     22         5\n",
       "45185   60     4256         1     92         4\n",
       "45186   59     1500         1    104         2\n",
       "45187   32     1168         1     -1         0\n",
       "45188   29      703         1    550         2\n",
       "45189   25      199         1     92         5\n",
       "45190   32      136         1    188         3\n",
       "45191   75     3810         1    183         1\n",
       "45192   29      765         1     -1         0\n",
       "45193   28      159         2     33         4\n",
       "45194   59      138         2    187         5\n",
       "45195   68     1146         1    187         6\n",
       "45196   25      358         1     -1         0\n",
       "45197   36     1511         1     -1         0\n",
       "45198   37     1428         2     -1         0\n",
       "45199   34     1475         3    530        12\n",
       "45200   38      557         4     -1         0\n",
       "45201   53      583         1    184         4\n",
       "45202   34      557         1     -1         0\n",
       "45203   23      113         1     -1         0\n",
       "45204   73     2850         1     40         8\n",
       "45205   25      505         2     -1         0\n",
       "45206   51      825         3     -1         0\n",
       "45207   71     1729         2     -1         0\n",
       "45208   72     5715         5    184         3\n",
       "45209   57      668         4     -1         0\n",
       "45210   37     2971         2    188        11\n",
       "\n",
       "[45211 rows x 5 columns]"
      ]
     },
     "execution_count": 4,
     "metadata": {},
     "output_type": "execute_result"
    }
   ],
   "source": [
    "import numpy as np\n",
    "import pandas as pd\n",
    "\n",
    "features = ['age', 'job', 'marital', 'education', 'default', 'balance', \n",
    "            'housing', 'loan', 'contact', 'campaign',\n",
    "            'pdays', 'previous', 'poutcome']  # 'duration'\n",
    "\n",
    "cat_features = bank_full[features].select_dtypes(object).columns\n",
    "num_features = bank_full[features].select_dtypes(np.number).columns\n",
    "bank_full[num_features]"
   ]
  },
  {
   "cell_type": "code",
   "execution_count": 5,
   "metadata": {},
   "outputs": [
    {
     "data": {
      "text/plain": [
       "job          12\n",
       "marital       3\n",
       "education     4\n",
       "default       2\n",
       "housing       2\n",
       "loan          2\n",
       "contact       3\n",
       "poutcome      4\n",
       "dtype: int64"
      ]
     },
     "execution_count": 5,
     "metadata": {},
     "output_type": "execute_result"
    }
   ],
   "source": [
    "bank_full[cat_features].apply(pd.Series.nunique)"
   ]
  },
  {
   "cell_type": "markdown",
   "metadata": {},
   "source": [
    "**Задание.** Произвести one hot кодировку категориальных полей.\n",
    "\n",
    "Hint: [`pd.concat`](https://pandas.pydata.org/pandas-docs/stable/generated/pandas.concat.html), [`pd.get_dummies`](https://pandas.pydata.org/pandas-docs/stable/generated/pandas.get_dummies.html)."
   ]
  },
  {
   "cell_type": "code",
   "execution_count": 6,
   "metadata": {},
   "outputs": [
    {
     "data": {
      "text/plain": [
       "(45211, 37)"
      ]
     },
     "execution_count": 6,
     "metadata": {},
     "output_type": "execute_result"
    }
   ],
   "source": [
    "# <вставить код>\n",
    "X = pd.concat([bank_full[num_features], pd.get_dummies(bank_full[cat_features])], axis=1)\n",
    "X.shape"
   ]
  },
  {
   "cell_type": "code",
   "execution_count": 7,
   "metadata": {},
   "outputs": [
    {
     "data": {
      "text/html": [
       "<div>\n",
       "<style scoped>\n",
       "    .dataframe tbody tr th:only-of-type {\n",
       "        vertical-align: middle;\n",
       "    }\n",
       "\n",
       "    .dataframe tbody tr th {\n",
       "        vertical-align: top;\n",
       "    }\n",
       "\n",
       "    .dataframe thead th {\n",
       "        text-align: right;\n",
       "    }\n",
       "</style>\n",
       "<table border=\"1\" class=\"dataframe\">\n",
       "  <thead>\n",
       "    <tr style=\"text-align: right;\">\n",
       "      <th></th>\n",
       "      <th>age</th>\n",
       "      <th>balance</th>\n",
       "      <th>campaign</th>\n",
       "      <th>pdays</th>\n",
       "      <th>previous</th>\n",
       "      <th>job_admin.</th>\n",
       "      <th>job_blue-collar</th>\n",
       "      <th>job_entrepreneur</th>\n",
       "      <th>job_housemaid</th>\n",
       "      <th>job_management</th>\n",
       "      <th>...</th>\n",
       "      <th>housing_yes</th>\n",
       "      <th>loan_no</th>\n",
       "      <th>loan_yes</th>\n",
       "      <th>contact_cellular</th>\n",
       "      <th>contact_telephone</th>\n",
       "      <th>contact_unknown</th>\n",
       "      <th>poutcome_failure</th>\n",
       "      <th>poutcome_other</th>\n",
       "      <th>poutcome_success</th>\n",
       "      <th>poutcome_unknown</th>\n",
       "    </tr>\n",
       "  </thead>\n",
       "  <tbody>\n",
       "    <tr>\n",
       "      <th>0</th>\n",
       "      <td>58</td>\n",
       "      <td>2143</td>\n",
       "      <td>1</td>\n",
       "      <td>-1</td>\n",
       "      <td>0</td>\n",
       "      <td>0</td>\n",
       "      <td>0</td>\n",
       "      <td>0</td>\n",
       "      <td>0</td>\n",
       "      <td>1</td>\n",
       "      <td>...</td>\n",
       "      <td>1</td>\n",
       "      <td>1</td>\n",
       "      <td>0</td>\n",
       "      <td>0</td>\n",
       "      <td>0</td>\n",
       "      <td>1</td>\n",
       "      <td>0</td>\n",
       "      <td>0</td>\n",
       "      <td>0</td>\n",
       "      <td>1</td>\n",
       "    </tr>\n",
       "    <tr>\n",
       "      <th>1</th>\n",
       "      <td>44</td>\n",
       "      <td>29</td>\n",
       "      <td>1</td>\n",
       "      <td>-1</td>\n",
       "      <td>0</td>\n",
       "      <td>0</td>\n",
       "      <td>0</td>\n",
       "      <td>0</td>\n",
       "      <td>0</td>\n",
       "      <td>0</td>\n",
       "      <td>...</td>\n",
       "      <td>1</td>\n",
       "      <td>1</td>\n",
       "      <td>0</td>\n",
       "      <td>0</td>\n",
       "      <td>0</td>\n",
       "      <td>1</td>\n",
       "      <td>0</td>\n",
       "      <td>0</td>\n",
       "      <td>0</td>\n",
       "      <td>1</td>\n",
       "    </tr>\n",
       "    <tr>\n",
       "      <th>2</th>\n",
       "      <td>33</td>\n",
       "      <td>2</td>\n",
       "      <td>1</td>\n",
       "      <td>-1</td>\n",
       "      <td>0</td>\n",
       "      <td>0</td>\n",
       "      <td>0</td>\n",
       "      <td>1</td>\n",
       "      <td>0</td>\n",
       "      <td>0</td>\n",
       "      <td>...</td>\n",
       "      <td>1</td>\n",
       "      <td>0</td>\n",
       "      <td>1</td>\n",
       "      <td>0</td>\n",
       "      <td>0</td>\n",
       "      <td>1</td>\n",
       "      <td>0</td>\n",
       "      <td>0</td>\n",
       "      <td>0</td>\n",
       "      <td>1</td>\n",
       "    </tr>\n",
       "    <tr>\n",
       "      <th>3</th>\n",
       "      <td>47</td>\n",
       "      <td>1506</td>\n",
       "      <td>1</td>\n",
       "      <td>-1</td>\n",
       "      <td>0</td>\n",
       "      <td>0</td>\n",
       "      <td>1</td>\n",
       "      <td>0</td>\n",
       "      <td>0</td>\n",
       "      <td>0</td>\n",
       "      <td>...</td>\n",
       "      <td>1</td>\n",
       "      <td>1</td>\n",
       "      <td>0</td>\n",
       "      <td>0</td>\n",
       "      <td>0</td>\n",
       "      <td>1</td>\n",
       "      <td>0</td>\n",
       "      <td>0</td>\n",
       "      <td>0</td>\n",
       "      <td>1</td>\n",
       "    </tr>\n",
       "    <tr>\n",
       "      <th>4</th>\n",
       "      <td>33</td>\n",
       "      <td>1</td>\n",
       "      <td>1</td>\n",
       "      <td>-1</td>\n",
       "      <td>0</td>\n",
       "      <td>0</td>\n",
       "      <td>0</td>\n",
       "      <td>0</td>\n",
       "      <td>0</td>\n",
       "      <td>0</td>\n",
       "      <td>...</td>\n",
       "      <td>0</td>\n",
       "      <td>1</td>\n",
       "      <td>0</td>\n",
       "      <td>0</td>\n",
       "      <td>0</td>\n",
       "      <td>1</td>\n",
       "      <td>0</td>\n",
       "      <td>0</td>\n",
       "      <td>0</td>\n",
       "      <td>1</td>\n",
       "    </tr>\n",
       "  </tbody>\n",
       "</table>\n",
       "<p>5 rows × 37 columns</p>\n",
       "</div>"
      ],
      "text/plain": [
       "   age  balance  campaign  pdays  previous  job_admin.  job_blue-collar  \\\n",
       "0   58     2143         1     -1         0           0                0   \n",
       "1   44       29         1     -1         0           0                0   \n",
       "2   33        2         1     -1         0           0                0   \n",
       "3   47     1506         1     -1         0           0                1   \n",
       "4   33        1         1     -1         0           0                0   \n",
       "\n",
       "   job_entrepreneur  job_housemaid  job_management        ...         \\\n",
       "0                 0              0               1        ...          \n",
       "1                 0              0               0        ...          \n",
       "2                 1              0               0        ...          \n",
       "3                 0              0               0        ...          \n",
       "4                 0              0               0        ...          \n",
       "\n",
       "   housing_yes  loan_no  loan_yes  contact_cellular  contact_telephone  \\\n",
       "0            1        1         0                 0                  0   \n",
       "1            1        1         0                 0                  0   \n",
       "2            1        0         1                 0                  0   \n",
       "3            1        1         0                 0                  0   \n",
       "4            0        1         0                 0                  0   \n",
       "\n",
       "   contact_unknown  poutcome_failure  poutcome_other  poutcome_success  \\\n",
       "0                1                 0               0                 0   \n",
       "1                1                 0               0                 0   \n",
       "2                1                 0               0                 0   \n",
       "3                1                 0               0                 0   \n",
       "4                1                 0               0                 0   \n",
       "\n",
       "   poutcome_unknown  \n",
       "0                 1  \n",
       "1                 1  \n",
       "2                 1  \n",
       "3                 1  \n",
       "4                 1  \n",
       "\n",
       "[5 rows x 37 columns]"
      ]
     },
     "execution_count": 7,
     "metadata": {},
     "output_type": "execute_result"
    }
   ],
   "source": [
    "X.head()"
   ]
  },
  {
   "cell_type": "code",
   "execution_count": 8,
   "metadata": {},
   "outputs": [],
   "source": [
    "y = bank_full['y'].replace({'yes': 1, 'no': 0})"
   ]
  },
  {
   "cell_type": "markdown",
   "metadata": {},
   "source": [
    "Разделим выборку по времени"
   ]
  },
  {
   "cell_type": "code",
   "execution_count": 9,
   "metadata": {},
   "outputs": [],
   "source": [
    "from sklearn.model_selection import train_test_split\n",
    "X_train, X_test, y_train, y_test = train_test_split(X, y, test_size=0.33)"
   ]
  },
  {
   "cell_type": "markdown",
   "metadata": {},
   "source": [
    "# Извлечение зависимости"
   ]
  },
  {
   "cell_type": "code",
   "execution_count": 10,
   "metadata": {},
   "outputs": [],
   "source": [
    "from sklearn.ensemble import GradientBoostingClassifier\n",
    "from sklearn.model_selection import cross_val_score, StratifiedKFold"
   ]
  },
  {
   "cell_type": "code",
   "execution_count": 11,
   "metadata": {},
   "outputs": [
    {
     "data": {
      "text/plain": [
       "array([0.73704092, 0.73649033, 0.72987098])"
      ]
     },
     "execution_count": 11,
     "metadata": {},
     "output_type": "execute_result"
    }
   ],
   "source": [
    "cv = StratifiedKFold(n_splits=3, random_state=42, shuffle=True)\n",
    "\n",
    "clf = GradientBoostingClassifier(learning_rate=0.1, n_estimators=10)\n",
    "\n",
    "cv_score = cross_val_score(clf, X_train, y_train, cv=cv, scoring='roc_auc')\n",
    "cv_score"
   ]
  },
  {
   "cell_type": "markdown",
   "metadata": {},
   "source": [
    "---"
   ]
  },
  {
   "cell_type": "code",
   "execution_count": 12,
   "metadata": {},
   "outputs": [],
   "source": [
    "from sklearn.model_selection import GridSearchCV"
   ]
  },
  {
   "cell_type": "code",
   "execution_count": 13,
   "metadata": {},
   "outputs": [],
   "source": [
    "booster_grid = {'learning_rate': [0.1, 0.05, 0.01], 'max_depth': [2, 3]}\n",
    "\n",
    "booster = GradientBoostingClassifier(n_estimators=100)\n",
    "\n",
    "gs_booster = GridSearchCV(booster, booster_grid, scoring='roc_auc',\n",
    "                          cv=cv, verbose=1, n_jobs=-1, return_train_score=True)"
   ]
  },
  {
   "cell_type": "code",
   "execution_count": 14,
   "metadata": {},
   "outputs": [
    {
     "name": "stdout",
     "output_type": "stream",
     "text": [
      "Fitting 3 folds for each of 6 candidates, totalling 18 fits\n"
     ]
    },
    {
     "name": "stderr",
     "output_type": "stream",
     "text": [
      "[Parallel(n_jobs=-1)]: Done  18 out of  18 | elapsed:   16.2s finished\n"
     ]
    },
    {
     "data": {
      "text/plain": [
       "{'learning_rate': 0.1, 'max_depth': 2}"
      ]
     },
     "execution_count": 14,
     "metadata": {},
     "output_type": "execute_result"
    }
   ],
   "source": [
    "gs_booster.fit(X_train, y_train);\n",
    "gs_booster.best_params_"
   ]
  },
  {
   "cell_type": "code",
   "execution_count": 15,
   "metadata": {},
   "outputs": [
    {
     "data": {
      "text/html": [
       "<div>\n",
       "<style scoped>\n",
       "    .dataframe tbody tr th:only-of-type {\n",
       "        vertical-align: middle;\n",
       "    }\n",
       "\n",
       "    .dataframe tbody tr th {\n",
       "        vertical-align: top;\n",
       "    }\n",
       "\n",
       "    .dataframe thead th {\n",
       "        text-align: right;\n",
       "    }\n",
       "</style>\n",
       "<table border=\"1\" class=\"dataframe\">\n",
       "  <thead>\n",
       "    <tr style=\"text-align: right;\">\n",
       "      <th></th>\n",
       "      <th>mean_fit_time</th>\n",
       "      <th>mean_score_time</th>\n",
       "      <th>mean_test_score</th>\n",
       "      <th>mean_train_score</th>\n",
       "      <th>param_learning_rate</th>\n",
       "      <th>param_max_depth</th>\n",
       "      <th>params</th>\n",
       "      <th>rank_test_score</th>\n",
       "      <th>split0_test_score</th>\n",
       "      <th>split0_train_score</th>\n",
       "      <th>split1_test_score</th>\n",
       "      <th>split1_train_score</th>\n",
       "      <th>split2_test_score</th>\n",
       "      <th>split2_train_score</th>\n",
       "      <th>std_fit_time</th>\n",
       "      <th>std_score_time</th>\n",
       "      <th>std_test_score</th>\n",
       "      <th>std_train_score</th>\n",
       "    </tr>\n",
       "  </thead>\n",
       "  <tbody>\n",
       "    <tr>\n",
       "      <th>0</th>\n",
       "      <td>1.931413</td>\n",
       "      <td>0.029188</td>\n",
       "      <td>0.758723</td>\n",
       "      <td>0.770277</td>\n",
       "      <td>0.1</td>\n",
       "      <td>2</td>\n",
       "      <td>{'learning_rate': 0.1, 'max_depth': 2}</td>\n",
       "      <td>1</td>\n",
       "      <td>0.755945</td>\n",
       "      <td>0.771582</td>\n",
       "      <td>0.761387</td>\n",
       "      <td>0.769799</td>\n",
       "      <td>0.758837</td>\n",
       "      <td>0.769450</td>\n",
       "      <td>0.289388</td>\n",
       "      <td>0.006514</td>\n",
       "      <td>0.002223</td>\n",
       "      <td>0.000934</td>\n",
       "    </tr>\n",
       "    <tr>\n",
       "      <th>1</th>\n",
       "      <td>4.560198</td>\n",
       "      <td>0.057873</td>\n",
       "      <td>0.758556</td>\n",
       "      <td>0.783822</td>\n",
       "      <td>0.1</td>\n",
       "      <td>3</td>\n",
       "      <td>{'learning_rate': 0.1, 'max_depth': 3}</td>\n",
       "      <td>2</td>\n",
       "      <td>0.754009</td>\n",
       "      <td>0.784817</td>\n",
       "      <td>0.761700</td>\n",
       "      <td>0.782527</td>\n",
       "      <td>0.759960</td>\n",
       "      <td>0.784122</td>\n",
       "      <td>0.468909</td>\n",
       "      <td>0.001247</td>\n",
       "      <td>0.003293</td>\n",
       "      <td>0.000959</td>\n",
       "    </tr>\n",
       "    <tr>\n",
       "      <th>2</th>\n",
       "      <td>3.700953</td>\n",
       "      <td>0.052536</td>\n",
       "      <td>0.754564</td>\n",
       "      <td>0.762212</td>\n",
       "      <td>0.05</td>\n",
       "      <td>2</td>\n",
       "      <td>{'learning_rate': 0.05, 'max_depth': 2}</td>\n",
       "      <td>4</td>\n",
       "      <td>0.754571</td>\n",
       "      <td>0.762940</td>\n",
       "      <td>0.756002</td>\n",
       "      <td>0.762720</td>\n",
       "      <td>0.753120</td>\n",
       "      <td>0.760975</td>\n",
       "      <td>0.258529</td>\n",
       "      <td>0.003744</td>\n",
       "      <td>0.001177</td>\n",
       "      <td>0.000879</td>\n",
       "    </tr>\n",
       "    <tr>\n",
       "      <th>3</th>\n",
       "      <td>6.527622</td>\n",
       "      <td>0.060207</td>\n",
       "      <td>0.756926</td>\n",
       "      <td>0.772618</td>\n",
       "      <td>0.05</td>\n",
       "      <td>3</td>\n",
       "      <td>{'learning_rate': 0.05, 'max_depth': 3}</td>\n",
       "      <td>3</td>\n",
       "      <td>0.754259</td>\n",
       "      <td>0.773286</td>\n",
       "      <td>0.760165</td>\n",
       "      <td>0.773044</td>\n",
       "      <td>0.756355</td>\n",
       "      <td>0.771523</td>\n",
       "      <td>0.069685</td>\n",
       "      <td>0.007448</td>\n",
       "      <td>0.002445</td>\n",
       "      <td>0.000780</td>\n",
       "    </tr>\n",
       "    <tr>\n",
       "      <th>4</th>\n",
       "      <td>3.468098</td>\n",
       "      <td>0.056204</td>\n",
       "      <td>0.712761</td>\n",
       "      <td>0.713784</td>\n",
       "      <td>0.01</td>\n",
       "      <td>2</td>\n",
       "      <td>{'learning_rate': 0.01, 'max_depth': 2}</td>\n",
       "      <td>6</td>\n",
       "      <td>0.712577</td>\n",
       "      <td>0.709566</td>\n",
       "      <td>0.713613</td>\n",
       "      <td>0.713100</td>\n",
       "      <td>0.712094</td>\n",
       "      <td>0.718688</td>\n",
       "      <td>0.054445</td>\n",
       "      <td>0.003926</td>\n",
       "      <td>0.000634</td>\n",
       "      <td>0.003756</td>\n",
       "    </tr>\n",
       "    <tr>\n",
       "      <th>5</th>\n",
       "      <td>4.061537</td>\n",
       "      <td>0.029687</td>\n",
       "      <td>0.738365</td>\n",
       "      <td>0.742731</td>\n",
       "      <td>0.01</td>\n",
       "      <td>3</td>\n",
       "      <td>{'learning_rate': 0.01, 'max_depth': 3}</td>\n",
       "      <td>5</td>\n",
       "      <td>0.741994</td>\n",
       "      <td>0.742446</td>\n",
       "      <td>0.738749</td>\n",
       "      <td>0.741149</td>\n",
       "      <td>0.734350</td>\n",
       "      <td>0.744600</td>\n",
       "      <td>0.411477</td>\n",
       "      <td>0.000472</td>\n",
       "      <td>0.003133</td>\n",
       "      <td>0.001423</td>\n",
       "    </tr>\n",
       "  </tbody>\n",
       "</table>\n",
       "</div>"
      ],
      "text/plain": [
       "   mean_fit_time  mean_score_time  mean_test_score  mean_train_score  \\\n",
       "0       1.931413         0.029188         0.758723          0.770277   \n",
       "1       4.560198         0.057873         0.758556          0.783822   \n",
       "2       3.700953         0.052536         0.754564          0.762212   \n",
       "3       6.527622         0.060207         0.756926          0.772618   \n",
       "4       3.468098         0.056204         0.712761          0.713784   \n",
       "5       4.061537         0.029687         0.738365          0.742731   \n",
       "\n",
       "  param_learning_rate param_max_depth  \\\n",
       "0                 0.1               2   \n",
       "1                 0.1               3   \n",
       "2                0.05               2   \n",
       "3                0.05               3   \n",
       "4                0.01               2   \n",
       "5                0.01               3   \n",
       "\n",
       "                                    params  rank_test_score  \\\n",
       "0   {'learning_rate': 0.1, 'max_depth': 2}                1   \n",
       "1   {'learning_rate': 0.1, 'max_depth': 3}                2   \n",
       "2  {'learning_rate': 0.05, 'max_depth': 2}                4   \n",
       "3  {'learning_rate': 0.05, 'max_depth': 3}                3   \n",
       "4  {'learning_rate': 0.01, 'max_depth': 2}                6   \n",
       "5  {'learning_rate': 0.01, 'max_depth': 3}                5   \n",
       "\n",
       "   split0_test_score  split0_train_score  split1_test_score  \\\n",
       "0           0.755945            0.771582           0.761387   \n",
       "1           0.754009            0.784817           0.761700   \n",
       "2           0.754571            0.762940           0.756002   \n",
       "3           0.754259            0.773286           0.760165   \n",
       "4           0.712577            0.709566           0.713613   \n",
       "5           0.741994            0.742446           0.738749   \n",
       "\n",
       "   split1_train_score  split2_test_score  split2_train_score  std_fit_time  \\\n",
       "0            0.769799           0.758837            0.769450      0.289388   \n",
       "1            0.782527           0.759960            0.784122      0.468909   \n",
       "2            0.762720           0.753120            0.760975      0.258529   \n",
       "3            0.773044           0.756355            0.771523      0.069685   \n",
       "4            0.713100           0.712094            0.718688      0.054445   \n",
       "5            0.741149           0.734350            0.744600      0.411477   \n",
       "\n",
       "   std_score_time  std_test_score  std_train_score  \n",
       "0        0.006514        0.002223         0.000934  \n",
       "1        0.001247        0.003293         0.000959  \n",
       "2        0.003744        0.001177         0.000879  \n",
       "3        0.007448        0.002445         0.000780  \n",
       "4        0.003926        0.000634         0.003756  \n",
       "5        0.000472        0.003133         0.001423  "
      ]
     },
     "execution_count": 15,
     "metadata": {},
     "output_type": "execute_result"
    }
   ],
   "source": [
    "pd.DataFrame(gs_booster.cv_results_)"
   ]
  },
  {
   "cell_type": "markdown",
   "metadata": {},
   "source": [
    "---"
   ]
  },
  {
   "cell_type": "markdown",
   "metadata": {},
   "source": [
    "**Задание** Подберите параметр количества соседей для KNeighborsClassifier в диапозоне [1, 5, 10], делая при этом нормировку StandardScaler\n",
    "\n",
    "Hint: для [`make_pipeline`](http://scikit-learn.org/stable/modules/generated/sklearn.pipeline.make_pipeline.html)"
   ]
  },
  {
   "cell_type": "code",
   "execution_count": 16,
   "metadata": {},
   "outputs": [],
   "source": [
    "from sklearn.neighbors import KNeighborsClassifier\n",
    "from sklearn.pipeline import make_pipeline\n",
    "from sklearn.preprocessing import StandardScaler\n",
    "\n",
    "\n",
    "knn = make_pipeline(StandardScaler(), KNeighborsClassifier())"
   ]
  },
  {
   "cell_type": "code",
   "execution_count": 17,
   "metadata": {},
   "outputs": [],
   "source": [
    "knn_grid = {'kneighborsclassifier__n_neighbors': [1, 5, 10]}"
   ]
  },
  {
   "cell_type": "code",
   "execution_count": 18,
   "metadata": {},
   "outputs": [],
   "source": [
    "gs_knn = GridSearchCV(knn, knn_grid, scoring='roc_auc', cv=cv, verbose=1, n_jobs=-1, return_train_score=True)"
   ]
  },
  {
   "cell_type": "code",
   "execution_count": 19,
   "metadata": {},
   "outputs": [
    {
     "name": "stdout",
     "output_type": "stream",
     "text": [
      "Fitting 3 folds for each of 3 candidates, totalling 9 fits\n"
     ]
    },
    {
     "name": "stderr",
     "output_type": "stream",
     "text": [
      "[Parallel(n_jobs=-1)]: Done   4 out of   9 | elapsed:  1.1min remaining:  1.4min\n",
      "[Parallel(n_jobs=-1)]: Done   9 out of   9 | elapsed:  1.4min finished\n"
     ]
    },
    {
     "data": {
      "text/plain": [
       "{'kneighborsclassifier__n_neighbors': 10}"
      ]
     },
     "execution_count": 19,
     "metadata": {},
     "output_type": "execute_result"
    }
   ],
   "source": [
    "gs_knn.fit(X_train, y_train)\n",
    "gs_knn.best_params_"
   ]
  },
  {
   "cell_type": "code",
   "execution_count": 20,
   "metadata": {},
   "outputs": [
    {
     "data": {
      "text/html": [
       "<div>\n",
       "<style scoped>\n",
       "    .dataframe tbody tr th:only-of-type {\n",
       "        vertical-align: middle;\n",
       "    }\n",
       "\n",
       "    .dataframe tbody tr th {\n",
       "        vertical-align: top;\n",
       "    }\n",
       "\n",
       "    .dataframe thead th {\n",
       "        text-align: right;\n",
       "    }\n",
       "</style>\n",
       "<table border=\"1\" class=\"dataframe\">\n",
       "  <thead>\n",
       "    <tr style=\"text-align: right;\">\n",
       "      <th></th>\n",
       "      <th>mean_fit_time</th>\n",
       "      <th>mean_score_time</th>\n",
       "      <th>mean_test_score</th>\n",
       "      <th>mean_train_score</th>\n",
       "      <th>param_kneighborsclassifier__n_neighbors</th>\n",
       "      <th>params</th>\n",
       "      <th>rank_test_score</th>\n",
       "      <th>split0_test_score</th>\n",
       "      <th>split0_train_score</th>\n",
       "      <th>split1_test_score</th>\n",
       "      <th>split1_train_score</th>\n",
       "      <th>split2_test_score</th>\n",
       "      <th>split2_train_score</th>\n",
       "      <th>std_fit_time</th>\n",
       "      <th>std_score_time</th>\n",
       "      <th>std_test_score</th>\n",
       "      <th>std_train_score</th>\n",
       "    </tr>\n",
       "  </thead>\n",
       "  <tbody>\n",
       "    <tr>\n",
       "      <th>0</th>\n",
       "      <td>0.504893</td>\n",
       "      <td>13.570609</td>\n",
       "      <td>0.578171</td>\n",
       "      <td>0.998945</td>\n",
       "      <td>1</td>\n",
       "      <td>{'kneighborsclassifier__n_neighbors': 1}</td>\n",
       "      <td>3</td>\n",
       "      <td>0.574108</td>\n",
       "      <td>0.998883</td>\n",
       "      <td>0.586997</td>\n",
       "      <td>0.999280</td>\n",
       "      <td>0.573408</td>\n",
       "      <td>0.998672</td>\n",
       "      <td>0.083432</td>\n",
       "      <td>1.238653</td>\n",
       "      <td>0.006247</td>\n",
       "      <td>0.000252</td>\n",
       "    </tr>\n",
       "    <tr>\n",
       "      <th>1</th>\n",
       "      <td>0.997838</td>\n",
       "      <td>24.994907</td>\n",
       "      <td>0.665913</td>\n",
       "      <td>0.904052</td>\n",
       "      <td>5</td>\n",
       "      <td>{'kneighborsclassifier__n_neighbors': 5}</td>\n",
       "      <td>2</td>\n",
       "      <td>0.665580</td>\n",
       "      <td>0.904331</td>\n",
       "      <td>0.680378</td>\n",
       "      <td>0.902106</td>\n",
       "      <td>0.651778</td>\n",
       "      <td>0.905718</td>\n",
       "      <td>0.352019</td>\n",
       "      <td>0.452797</td>\n",
       "      <td>0.011678</td>\n",
       "      <td>0.001487</td>\n",
       "    </tr>\n",
       "    <tr>\n",
       "      <th>2</th>\n",
       "      <td>1.189790</td>\n",
       "      <td>28.309429</td>\n",
       "      <td>0.693395</td>\n",
       "      <td>0.855982</td>\n",
       "      <td>10</td>\n",
       "      <td>{'kneighborsclassifier__n_neighbors': 10}</td>\n",
       "      <td>1</td>\n",
       "      <td>0.693662</td>\n",
       "      <td>0.855472</td>\n",
       "      <td>0.706572</td>\n",
       "      <td>0.854647</td>\n",
       "      <td>0.679950</td>\n",
       "      <td>0.857827</td>\n",
       "      <td>0.256101</td>\n",
       "      <td>1.276486</td>\n",
       "      <td>0.010870</td>\n",
       "      <td>0.001347</td>\n",
       "    </tr>\n",
       "  </tbody>\n",
       "</table>\n",
       "</div>"
      ],
      "text/plain": [
       "   mean_fit_time  mean_score_time  mean_test_score  mean_train_score  \\\n",
       "0       0.504893        13.570609         0.578171          0.998945   \n",
       "1       0.997838        24.994907         0.665913          0.904052   \n",
       "2       1.189790        28.309429         0.693395          0.855982   \n",
       "\n",
       "  param_kneighborsclassifier__n_neighbors  \\\n",
       "0                                       1   \n",
       "1                                       5   \n",
       "2                                      10   \n",
       "\n",
       "                                      params  rank_test_score  \\\n",
       "0   {'kneighborsclassifier__n_neighbors': 1}                3   \n",
       "1   {'kneighborsclassifier__n_neighbors': 5}                2   \n",
       "2  {'kneighborsclassifier__n_neighbors': 10}                1   \n",
       "\n",
       "   split0_test_score  split0_train_score  split1_test_score  \\\n",
       "0           0.574108            0.998883           0.586997   \n",
       "1           0.665580            0.904331           0.680378   \n",
       "2           0.693662            0.855472           0.706572   \n",
       "\n",
       "   split1_train_score  split2_test_score  split2_train_score  std_fit_time  \\\n",
       "0            0.999280           0.573408            0.998672      0.083432   \n",
       "1            0.902106           0.651778            0.905718      0.352019   \n",
       "2            0.854647           0.679950            0.857827      0.256101   \n",
       "\n",
       "   std_score_time  std_test_score  std_train_score  \n",
       "0        1.238653        0.006247         0.000252  \n",
       "1        0.452797        0.011678         0.001487  \n",
       "2        1.276486        0.010870         0.001347  "
      ]
     },
     "execution_count": 20,
     "metadata": {},
     "output_type": "execute_result"
    }
   ],
   "source": [
    "pd.DataFrame(gs_knn.cv_results_)"
   ]
  },
  {
   "cell_type": "markdown",
   "metadata": {},
   "source": [
    "---"
   ]
  },
  {
   "cell_type": "markdown",
   "metadata": {},
   "source": [
    "**Задание** Перед запуском Knn произведите отбор самых важных признаков, используя [`SelectFromModel`](http://scikit-learn.org/stable/modules/generated/sklearn.feature_selection.SelectFromModel.html), перебирая значения `threshold` в диапозоне ['0.1*mean', '0.5*mean', 'mean'], а в качестве модели взять [`DecisionTreeClassifier`](http://scikit-learn.org/stable/modules/generated/sklearn.tree.DecisionTreeClassifier.html)."
   ]
  },
  {
   "cell_type": "code",
   "execution_count": 21,
   "metadata": {},
   "outputs": [],
   "source": [
    "from sklearn.feature_selection import SelectFromModel\n",
    "from sklearn.tree import DecisionTreeClassifier"
   ]
  },
  {
   "cell_type": "code",
   "execution_count": 22,
   "metadata": {},
   "outputs": [],
   "source": [
    "tree = DecisionTreeClassifier(max_depth=10).fit(X_train, y_train)"
   ]
  },
  {
   "cell_type": "code",
   "execution_count": 23,
   "metadata": {
    "scrolled": false
   },
   "outputs": [
    {
     "data": {
      "text/plain": [
       "poutcome_success       0.393443\n",
       "age                    0.165183\n",
       "balance                0.107311\n",
       "pdays                  0.093195\n",
       "contact_unknown        0.050724\n",
       "campaign               0.049542\n",
       "housing_no             0.035110\n",
       "previous               0.025353\n",
       "marital_single         0.011906\n",
       "loan_yes               0.010342\n",
       "education_secondary    0.007733\n",
       "education_tertiary     0.007332\n",
       "job_technician         0.005493\n",
       "poutcome_other         0.005218\n",
       "loan_no                0.003183\n",
       "job_admin.             0.003063\n",
       "job_unknown            0.003014\n",
       "marital_married        0.002524\n",
       "job_retired            0.002172\n",
       "poutcome_failure       0.002028\n",
       "job_entrepreneur       0.001996\n",
       "job_self-employed      0.001925\n",
       "job_unemployed         0.001895\n",
       "education_primary      0.001776\n",
       "marital_divorced       0.001746\n",
       "contact_cellular       0.001409\n",
       "default_no             0.001312\n",
       "housing_yes            0.001231\n",
       "poutcome_unknown       0.001089\n",
       "default_yes            0.000936\n",
       "job_student            0.000684\n",
       "job_blue-collar        0.000131\n",
       "job_housemaid          0.000000\n",
       "job_services           0.000000\n",
       "contact_telephone      0.000000\n",
       "education_unknown      0.000000\n",
       "job_management         0.000000\n",
       "dtype: float64"
      ]
     },
     "execution_count": 23,
     "metadata": {},
     "output_type": "execute_result"
    }
   ],
   "source": [
    "pd.Series(tree.feature_importances_, index=X_train.columns).sort_values(ascending=False)"
   ]
  },
  {
   "cell_type": "code",
   "execution_count": 24,
   "metadata": {},
   "outputs": [],
   "source": [
    "knn_sel = make_pipeline(\n",
    "    StandardScaler(),\n",
    "    SelectFromModel(DecisionTreeClassifier(max_depth=10)),\n",
    "    KNeighborsClassifier(n_neighbors=5)\n",
    ")\n",
    "\n",
    "knn_sel_grid = {'selectfrommodel__threshold': ['0.1*mean', '0.5*mean', 'mean']}\n",
    "\n",
    "gs_knn_sel = GridSearchCV(knn_sel, knn_sel_grid, scoring='roc_auc', cv=cv, verbose=1, n_jobs=-1, return_train_score=True)"
   ]
  },
  {
   "cell_type": "code",
   "execution_count": 25,
   "metadata": {},
   "outputs": [
    {
     "name": "stdout",
     "output_type": "stream",
     "text": [
      "Fitting 3 folds for each of 3 candidates, totalling 9 fits\n"
     ]
    },
    {
     "name": "stderr",
     "output_type": "stream",
     "text": [
      "[Parallel(n_jobs=-1)]: Done   4 out of   9 | elapsed:   10.3s remaining:   12.9s\n",
      "[Parallel(n_jobs=-1)]: Done   9 out of   9 | elapsed:   31.7s finished\n"
     ]
    },
    {
     "data": {
      "text/plain": [
       "{'selectfrommodel__threshold': '0.1*mean'}"
      ]
     },
     "execution_count": 25,
     "metadata": {},
     "output_type": "execute_result"
    }
   ],
   "source": [
    "gs_knn_sel.fit(X_train, y_train)\n",
    "gs_knn_sel.best_params_"
   ]
  },
  {
   "cell_type": "code",
   "execution_count": 26,
   "metadata": {},
   "outputs": [
    {
     "data": {
      "text/html": [
       "<div>\n",
       "<style scoped>\n",
       "    .dataframe tbody tr th:only-of-type {\n",
       "        vertical-align: middle;\n",
       "    }\n",
       "\n",
       "    .dataframe tbody tr th {\n",
       "        vertical-align: top;\n",
       "    }\n",
       "\n",
       "    .dataframe thead th {\n",
       "        text-align: right;\n",
       "    }\n",
       "</style>\n",
       "<table border=\"1\" class=\"dataframe\">\n",
       "  <thead>\n",
       "    <tr style=\"text-align: right;\">\n",
       "      <th></th>\n",
       "      <th>mean_fit_time</th>\n",
       "      <th>mean_score_time</th>\n",
       "      <th>mean_test_score</th>\n",
       "      <th>mean_train_score</th>\n",
       "      <th>param_selectfrommodel__threshold</th>\n",
       "      <th>params</th>\n",
       "      <th>rank_test_score</th>\n",
       "      <th>split0_test_score</th>\n",
       "      <th>split0_train_score</th>\n",
       "      <th>split1_test_score</th>\n",
       "      <th>split1_train_score</th>\n",
       "      <th>split2_test_score</th>\n",
       "      <th>split2_train_score</th>\n",
       "      <th>std_fit_time</th>\n",
       "      <th>std_score_time</th>\n",
       "      <th>std_test_score</th>\n",
       "      <th>std_train_score</th>\n",
       "    </tr>\n",
       "  </thead>\n",
       "  <tbody>\n",
       "    <tr>\n",
       "      <th>0</th>\n",
       "      <td>0.773329</td>\n",
       "      <td>11.627233</td>\n",
       "      <td>0.668939</td>\n",
       "      <td>0.905457</td>\n",
       "      <td>0.1*mean</td>\n",
       "      <td>{'selectfrommodel__threshold': '0.1*mean'}</td>\n",
       "      <td>1</td>\n",
       "      <td>0.670524</td>\n",
       "      <td>0.903408</td>\n",
       "      <td>0.682849</td>\n",
       "      <td>0.905893</td>\n",
       "      <td>0.653442</td>\n",
       "      <td>0.907069</td>\n",
       "      <td>0.282632</td>\n",
       "      <td>1.203367</td>\n",
       "      <td>0.012057</td>\n",
       "      <td>0.001526</td>\n",
       "    </tr>\n",
       "    <tr>\n",
       "      <th>1</th>\n",
       "      <td>0.871576</td>\n",
       "      <td>1.154764</td>\n",
       "      <td>0.658180</td>\n",
       "      <td>0.902675</td>\n",
       "      <td>0.5*mean</td>\n",
       "      <td>{'selectfrommodel__threshold': '0.5*mean'}</td>\n",
       "      <td>3</td>\n",
       "      <td>0.667897</td>\n",
       "      <td>0.900718</td>\n",
       "      <td>0.658785</td>\n",
       "      <td>0.903459</td>\n",
       "      <td>0.647857</td>\n",
       "      <td>0.903847</td>\n",
       "      <td>0.220891</td>\n",
       "      <td>0.420768</td>\n",
       "      <td>0.008192</td>\n",
       "      <td>0.001393</td>\n",
       "    </tr>\n",
       "    <tr>\n",
       "      <th>2</th>\n",
       "      <td>0.566710</td>\n",
       "      <td>0.869576</td>\n",
       "      <td>0.661833</td>\n",
       "      <td>0.901549</td>\n",
       "      <td>mean</td>\n",
       "      <td>{'selectfrommodel__threshold': 'mean'}</td>\n",
       "      <td>2</td>\n",
       "      <td>0.668297</td>\n",
       "      <td>0.900795</td>\n",
       "      <td>0.665640</td>\n",
       "      <td>0.904388</td>\n",
       "      <td>0.651561</td>\n",
       "      <td>0.899463</td>\n",
       "      <td>0.096190</td>\n",
       "      <td>0.107628</td>\n",
       "      <td>0.007343</td>\n",
       "      <td>0.002080</td>\n",
       "    </tr>\n",
       "  </tbody>\n",
       "</table>\n",
       "</div>"
      ],
      "text/plain": [
       "   mean_fit_time  mean_score_time  mean_test_score  mean_train_score  \\\n",
       "0       0.773329        11.627233         0.668939          0.905457   \n",
       "1       0.871576         1.154764         0.658180          0.902675   \n",
       "2       0.566710         0.869576         0.661833          0.901549   \n",
       "\n",
       "  param_selectfrommodel__threshold  \\\n",
       "0                         0.1*mean   \n",
       "1                         0.5*mean   \n",
       "2                             mean   \n",
       "\n",
       "                                       params  rank_test_score  \\\n",
       "0  {'selectfrommodel__threshold': '0.1*mean'}                1   \n",
       "1  {'selectfrommodel__threshold': '0.5*mean'}                3   \n",
       "2      {'selectfrommodel__threshold': 'mean'}                2   \n",
       "\n",
       "   split0_test_score  split0_train_score  split1_test_score  \\\n",
       "0           0.670524            0.903408           0.682849   \n",
       "1           0.667897            0.900718           0.658785   \n",
       "2           0.668297            0.900795           0.665640   \n",
       "\n",
       "   split1_train_score  split2_test_score  split2_train_score  std_fit_time  \\\n",
       "0            0.905893           0.653442            0.907069      0.282632   \n",
       "1            0.903459           0.647857            0.903847      0.220891   \n",
       "2            0.904388           0.651561            0.899463      0.096190   \n",
       "\n",
       "   std_score_time  std_test_score  std_train_score  \n",
       "0        1.203367        0.012057         0.001526  \n",
       "1        0.420768        0.008192         0.001393  \n",
       "2        0.107628        0.007343         0.002080  "
      ]
     },
     "execution_count": 26,
     "metadata": {},
     "output_type": "execute_result"
    }
   ],
   "source": [
    "pd.DataFrame(gs_knn_sel.cv_results_)"
   ]
  },
  {
   "cell_type": "markdown",
   "metadata": {},
   "source": [
    "# Stacking"
   ]
  },
  {
   "cell_type": "code",
   "execution_count": 27,
   "metadata": {},
   "outputs": [],
   "source": [
    "booster = gs_booster.best_estimator_\n",
    "knn = gs_knn.best_estimator_\n",
    "knn_sel = gs_knn_sel.best_estimator_"
   ]
  },
  {
   "cell_type": "markdown",
   "metadata": {},
   "source": [
    "**Задание** Написать функцию, которая возвращает прогноз по схеме кросс-валидации на обучающей выборке и на тесте.\n",
    "\n",
    "Hint: не забудьте использовать метод `'predict_proba'` для [`cross_val_predict`](http://scikit-learn.org/stable/modules/generated/sklearn.model_selection.cross_val_predict.html)"
   ]
  },
  {
   "cell_type": "code",
   "execution_count": 28,
   "metadata": {},
   "outputs": [],
   "source": [
    "from sklearn.model_selection import cross_val_predict\n",
    "\n",
    "\n",
    "def meta_feature(clf, X_train, y_train, X_test, cv):\n",
    "    cv_pred_train = cross_val_predict(clf, X_train, y_train, \n",
    "                                      method='predict_proba', cv=cv, n_jobs=-1, verbose=1)[:, 1]\n",
    "    clf.fit(X_train, y_train)\n",
    "    pred_test = clf.predict_proba(X_test)[:, 1]\n",
    "    return cv_pred_train, pred_test"
   ]
  },
  {
   "cell_type": "code",
   "execution_count": 29,
   "metadata": {},
   "outputs": [
    {
     "name": "stderr",
     "output_type": "stream",
     "text": [
      "[Parallel(n_jobs=-1)]: Done   3 out of   3 | elapsed:    4.4s finished\n",
      "[Parallel(n_jobs=-1)]: Done   3 out of   3 | elapsed:   19.4s finished\n",
      "[Parallel(n_jobs=-1)]: Done   3 out of   3 | elapsed:   12.0s finished\n"
     ]
    }
   ],
   "source": [
    "meta_train = pd.DataFrame()\n",
    "meta_test = pd.DataFrame()\n",
    "\n",
    "meta_train['booster'], meta_test['booster'] = meta_feature(booster, X_train, y_train, X_test, cv)\n",
    "meta_train['knn'    ], meta_test['knn'    ] = meta_feature(knn,     X_train, y_train, X_test, cv)\n",
    "meta_train['knn_sel'], meta_test['knn_sel'] = meta_feature(knn_sel, X_train, y_train, X_test, cv)"
   ]
  },
  {
   "cell_type": "code",
   "execution_count": 30,
   "metadata": {},
   "outputs": [
    {
     "data": {
      "text/html": [
       "<div>\n",
       "<style scoped>\n",
       "    .dataframe tbody tr th:only-of-type {\n",
       "        vertical-align: middle;\n",
       "    }\n",
       "\n",
       "    .dataframe tbody tr th {\n",
       "        vertical-align: top;\n",
       "    }\n",
       "\n",
       "    .dataframe thead th {\n",
       "        text-align: right;\n",
       "    }\n",
       "</style>\n",
       "<table border=\"1\" class=\"dataframe\">\n",
       "  <thead>\n",
       "    <tr style=\"text-align: right;\">\n",
       "      <th></th>\n",
       "      <th>booster</th>\n",
       "      <th>knn</th>\n",
       "      <th>knn_sel</th>\n",
       "    </tr>\n",
       "  </thead>\n",
       "  <tbody>\n",
       "    <tr>\n",
       "      <th>0</th>\n",
       "      <td>0.145674</td>\n",
       "      <td>0.0</td>\n",
       "      <td>0.0</td>\n",
       "    </tr>\n",
       "    <tr>\n",
       "      <th>1</th>\n",
       "      <td>0.243254</td>\n",
       "      <td>0.2</td>\n",
       "      <td>0.2</td>\n",
       "    </tr>\n",
       "    <tr>\n",
       "      <th>2</th>\n",
       "      <td>0.025492</td>\n",
       "      <td>0.1</td>\n",
       "      <td>0.0</td>\n",
       "    </tr>\n",
       "    <tr>\n",
       "      <th>3</th>\n",
       "      <td>0.124259</td>\n",
       "      <td>0.0</td>\n",
       "      <td>0.0</td>\n",
       "    </tr>\n",
       "    <tr>\n",
       "      <th>4</th>\n",
       "      <td>0.153321</td>\n",
       "      <td>0.2</td>\n",
       "      <td>0.0</td>\n",
       "    </tr>\n",
       "  </tbody>\n",
       "</table>\n",
       "</div>"
      ],
      "text/plain": [
       "    booster  knn  knn_sel\n",
       "0  0.145674  0.0      0.0\n",
       "1  0.243254  0.2      0.2\n",
       "2  0.025492  0.1      0.0\n",
       "3  0.124259  0.0      0.0\n",
       "4  0.153321  0.2      0.0"
      ]
     },
     "execution_count": 30,
     "metadata": {},
     "output_type": "execute_result"
    }
   ],
   "source": [
    "meta_train.head()"
   ]
  },
  {
   "cell_type": "code",
   "execution_count": 31,
   "metadata": {},
   "outputs": [
    {
     "data": {
      "text/plain": [
       "booster    0.767651\n",
       "knn        0.694697\n",
       "knn_sel    0.668607\n",
       "dtype: float64"
      ]
     },
     "execution_count": 31,
     "metadata": {},
     "output_type": "execute_result"
    }
   ],
   "source": [
    "from sklearn.metrics import roc_auc_score\n",
    "meta_test.apply(lambda x: roc_auc_score(y_test, x))"
   ]
  },
  {
   "cell_type": "code",
   "execution_count": 32,
   "metadata": {},
   "outputs": [
    {
     "data": {
      "text/plain": [
       "0.7648771967083433"
      ]
     },
     "execution_count": 32,
     "metadata": {},
     "output_type": "execute_result"
    }
   ],
   "source": [
    "meta_clf = GradientBoostingClassifier()\n",
    "meta_clf.fit(meta_train, y_train)\n",
    "\n",
    "roc_auc_score(y_test, meta_clf.predict_proba(meta_test)[:, 1])"
   ]
  },
  {
   "cell_type": "markdown",
   "metadata": {},
   "source": [
    "---"
   ]
  },
  {
   "cell_type": "markdown",
   "metadata": {},
   "source": [
    "## Домашнее Задание. Information value\n",
    "Реализовать функцию подсчета [information value](http://ucanalytics.com/blogs/information-value-and-weight-of-evidencebanking-case). \n",
    "\n",
    "* в функции признак должен разбиваться на `num_buck` бакетов.\n",
    "* для каждого бакета подсчитайте величину\n",
    "$$\n",
    "    \\left(    \\frac{tr}{all\\_tr} -       \\frac{1 - tr}{1 - all\\_tr} \\right) \\cdot\n",
    "    \\left(log(\\frac{tr}{all\\_tr}) -  log(\\frac{1 - tr}{1 - all\\_tr})\\right) \\cdot\n",
    "    \\frac{cnt}{all\\_cnt},\n",
    "$$\n",
    "    * $tr$ - доля целевой переменной в бакете (target rate)\n",
    "    * $all\\_tr$ - доля целевой переменной во всей выборке\n",
    "    * $cnt$ - количество объектов в бакете\n",
    "    * $all_cnt$ - количество обектов во всей выборке\n",
    "    \n",
    "* Если в бакете объекты только одного класса, то будут проблемы со взятием логарифма. Для этого значения $tr$ надо обрезать снизу – 0.001, а сверху 0.999 (hint: [`np.clip`](https://docs.scipy.org/doc/numpy/reference/generated/numpy.clip.html))"
   ]
  },
  {
   "cell_type": "code",
   "execution_count": 33,
   "metadata": {},
   "outputs": [
    {
     "data": {
      "text/plain": [
       "0.27977563739167577"
      ]
     },
     "execution_count": 33,
     "metadata": {},
     "output_type": "execute_result"
    }
   ],
   "source": [
    "import pandas as pd \n",
    "import numpy as np\n",
    "\n",
    "def jitter(a_series, noise_reduction=1000000000):\n",
    "    return (np.random.random(len(a_series))*a_series.std()/noise_reduction)-(a_series.std()/(2*noise_reduction))\n",
    "\n",
    "def information_value(feature, target, num_buck=10):\n",
    "    data = pd.DataFrame({'feature': feature, 'tr': target})\n",
    "    if list(feature.unique())==[0,1] or list(feature.unique())==[1,0]:\n",
    "        feature = feature + jitter(feature);\n",
    "    data['buckets'] = pd.qcut(feature, q=num_buck, duplicates='drop')\n",
    "    data['count'] = 1\n",
    "    \n",
    "    all_tr = data['tr'].mean()\n",
    "    all_count = data['count'].sum()\n",
    "\n",
    "    data_agg = data.groupby('buckets').agg({'tr': 'mean', 'feature' : 'mean', 'count': 'sum'})\n",
    "    \n",
    "    data_agg['tr'] = np.clip(data_agg['tr'], 0.001, 0.999)\n",
    "    data_agg['iv'] = (data_agg['tr']/all_tr - (1 - data_agg['tr'])/(1 - all_tr)) * (data_agg['count']/all_count) *(np.log(data_agg['tr']/all_tr) - np.log((1 - data_agg['tr'])/(1 - all_tr)))\n",
    "    \n",
    "    return data_agg['iv'].sum()\n",
    "\n",
    "information_value(X['contact_unknown'], y)"
   ]
  },
  {
   "cell_type": "markdown",
   "metadata": {},
   "source": [
    "## Домашнее Задание. Важность признаков\n",
    "\n",
    "Для некоторых задач важно уметь отобрать топ самых информативных признаков, выкинув неинформативный хвост.\n",
    "\n",
    "Произвести сравнение различных способов подсчета важности признаков.\n",
    "\n",
    "Способы подсчета важности:\n",
    "* feature importance градиентного бустинга;\n",
    "* information value;\n",
    "* feature importance от random forest.\n",
    "\n",
    "Способ сравнения:\n",
    "* Фиксируйте одну модель по выбору.\n",
    "* В качестве признаков нужно использовать топ-n от итоговых признаков по критерию важности.\n",
    "* Построить зависимость качества на тесте от количества признаков n для каждого способа.\n",
    "\n",
    "**Замечание**\n",
    "\n",
    "Учесть, что первоначальному одному признаку соответствует несколько признаков после one hot кодирования, а в задании под принаком подразумеваются исходные (age, job, ...). При подсчете feature importance от категориальных полей нужно складывать feature importance всех получиных после one hot кодировки бинарных признаков.\n",
    "\n",
    "\n",
    "Для каких способов совпадают наборы признаков для n = 1, 2, 3?  \n",
    "Какой способ дает лучшее качество на тесте при использовании 5 признаков?"
   ]
  },
  {
   "cell_type": "code",
   "execution_count": 34,
   "metadata": {},
   "outputs": [
    {
     "data": {
      "text/plain": [
       "contact      0.476848\n",
       "poutcome     0.430205\n",
       "housing      0.349890\n",
       "job          0.131755\n",
       "age          0.116017\n",
       "previous     0.107818\n",
       "balance      0.101939\n",
       "loan         0.087254\n",
       "education    0.076685\n",
       "marital      0.072523\n",
       "campaign     0.067606\n",
       "pdays        0.011978\n",
       "default      0.007308\n",
       "dtype: float64"
      ]
     },
     "execution_count": 34,
     "metadata": {},
     "output_type": "execute_result"
    }
   ],
   "source": [
    "# Функция суммирования категорильных признаков\n",
    "def collapse_categories(feature):\n",
    "    feature = feature.rename(lambda x: x[:x.find('_') if x.find('_')!=-1 else len(x)])\n",
    "    feature = feature.groupby(feature.index).sum()\n",
    "    return feature\n",
    "\n",
    "# Готовим IV\n",
    "information_values = X.apply(information_value, target=y, axis=0)\n",
    "\n",
    "information_values_clear = collapse_categories(information_values).sort_values(ascending=False)\n",
    "information_values_clear"
   ]
  },
  {
   "cell_type": "code",
   "execution_count": 35,
   "metadata": {},
   "outputs": [
    {
     "data": {
      "text/plain": [
       "poutcome     0.662392\n",
       "age          0.108555\n",
       "contact      0.073882\n",
       "housing      0.055695\n",
       "pdays        0.042619\n",
       "marital      0.018861\n",
       "balance      0.018075\n",
       "campaign     0.010745\n",
       "job          0.009175\n",
       "previous     0.000000\n",
       "loan         0.000000\n",
       "education    0.000000\n",
       "default      0.000000\n",
       "dtype: float64"
      ]
     },
     "execution_count": 35,
     "metadata": {},
     "output_type": "execute_result"
    }
   ],
   "source": [
    "# Готовим feature importance от градиентного бустинга\n",
    "from sklearn.ensemble import GradientBoostingClassifier\n",
    "\n",
    "gbooster = GradientBoostingClassifier(learning_rate=0.1, n_estimators=10, max_depth = 3).fit(X_train, y_train)\n",
    "booster_fi = pd.Series(gbooster.feature_importances_, index=X_train.columns).sort_values(ascending=False)\n",
    "booster_fi_clear = collapse_categories(booster_fi).sort_values(ascending=False)\n",
    "booster_fi_clear"
   ]
  },
  {
   "cell_type": "code",
   "execution_count": 36,
   "metadata": {},
   "outputs": [
    {
     "data": {
      "text/plain": [
       "balance      0.313118\n",
       "age          0.226322\n",
       "job          0.084732\n",
       "campaign     0.083180\n",
       "poutcome     0.060930\n",
       "pdays        0.059137\n",
       "education    0.038068\n",
       "previous     0.035497\n",
       "housing      0.032527\n",
       "marital      0.027178\n",
       "contact      0.022318\n",
       "loan         0.013298\n",
       "default      0.003695\n",
       "dtype: float64"
      ]
     },
     "execution_count": 36,
     "metadata": {},
     "output_type": "execute_result"
    }
   ],
   "source": [
    "# Готовим feature importance от случайного леса\n",
    "from sklearn.ensemble import RandomForestClassifier\n",
    "\n",
    "forest = RandomForestClassifier(n_estimators=10, random_state=42).fit(X_train, y_train)\n",
    "forest_fi = pd.Series(forest.feature_importances_, index=X_train.columns).sort_values(ascending=False)\n",
    "forest_fi_clear = collapse_categories(forest_fi).sort_values(ascending=False)\n",
    "forest_fi_clear"
   ]
  },
  {
   "cell_type": "markdown",
   "metadata": {},
   "source": [
    "### Анализ полученных значений\n",
    "Ни для какого n={1,2,3} n первых признаков не совпадают между собой."
   ]
  },
  {
   "cell_type": "code",
   "execution_count": 37,
   "metadata": {},
   "outputs": [
    {
     "data": {
      "image/png": "[encoded data removed]",
      "text/plain": [
       "<matplotlib.figure.Figure at 0x1a2b3d4a780>"
      ]
     },
     "metadata": {},
     "output_type": "display_data"
    }
   ],
   "source": [
    "%matplotlib inline\n",
    "import matplotlib.pyplot as plt \n",
    "\n",
    "# Функция отбора кодированных признаков при заданных изначальных\n",
    "def get_coded_indices(coded_indices, indices):\n",
    "    \n",
    "    result = pd.Index([])\n",
    "    for index in indices:\n",
    "        result = result.union(coded_indices.where(coded_indices.str.find(index) == 0).dropna())\n",
    "        \n",
    "    return result\n",
    "\n",
    "# auc на подмножестве признаков (фиксированная модель - GradientBoosting)\n",
    "def n_features_auc(X_train, y_train, X_test, y_test, indices):\n",
    "    \n",
    "    X_train = X_train.filter(items=indices)\n",
    "    X_test = X_test.filter(items=indices)\n",
    "    \n",
    "    gbooster = GradientBoostingClassifier(learning_rate=0.1, n_estimators=10, max_depth = 3).fit(X_train, y_train)\n",
    "    auc = roc_auc_score(y_test, gbooster.predict_proba(X_test)[:, 1])\n",
    "    \n",
    "    return auc\n",
    "\n",
    "# получение массива auc по количеству первых отобранных признаков \n",
    "def auc_from_n(X_train, y_train, X_test, y_test, features, coded_features):\n",
    "    count = len(features) + 1;\n",
    "    arr = np.arange(count, dtype=np.float)\n",
    "    \n",
    "    for i in range(1,count):\n",
    "        arr[i] = n_features_auc(X_train, y_train, X_test, y_test, get_coded_indices(coded_features.index, features[:i].index))\n",
    "        \n",
    "    return pd.Series(np.delete(arr, 0)).rename(lambda x: x + 1).rename(\"AUC\");\n",
    "\n",
    "def plot_auc_from_n(X_train, y_train, X_test, y_test, features, coded_features):\n",
    "    \n",
    "    return auc_from_n(X_train, y_train, X_test, y_test, features, coded_features).plot(figsize=(10, 5), grid=True)\n",
    "\n",
    "plot_auc_from_n(X_train, y_train, X_test, y_test, forest_fi_clear, forest_fi)\n",
    "plt.legend(title=\"Feature Importance from random forest\");"
   ]
  },
  {
   "cell_type": "code",
   "execution_count": 38,
   "metadata": {},
   "outputs": [
    {
     "data": {
      "image/png": "[encoded data removed]",
      "text/plain": [
       "<matplotlib.figure.Figure at 0x1a2b454df60>"
      ]
     },
     "metadata": {},
     "output_type": "display_data"
    }
   ],
   "source": [
    "plot_auc_from_n(X_train, y_train, X_test, y_test, information_values_clear, information_values)\n",
    "plt.legend(title=\"Information value\");"
   ]
  },
  {
   "cell_type": "code",
   "execution_count": 39,
   "metadata": {},
   "outputs": [
    {
     "data": {
      "image/png": "[encoded data removed]",
      "text/plain": [
       "<matplotlib.figure.Figure at 0x1a2b46d1ef0>"
      ]
     },
     "metadata": {},
     "output_type": "display_data"
    }
   ],
   "source": [
    "plot_auc_from_n(X_train, y_train, X_test, y_test, booster_fi_clear, booster_fi)\n",
    "plt.legend(title=\"Feature Importance from gradient boosting\");"
   ]
  },
  {
   "cell_type": "markdown",
   "metadata": {},
   "source": [
    "### Анализ auc на пяти первых признаках"
   ]
  },
  {
   "cell_type": "code",
   "execution_count": 40,
   "metadata": {},
   "outputs": [
    {
     "data": {
      "text/plain": [
       "0.6850202569120515"
      ]
     },
     "execution_count": 40,
     "metadata": {},
     "output_type": "execute_result"
    }
   ],
   "source": [
    "auc_forest_fi = n_features_auc(X_train, y_train, X_test, y_test, get_coded_indices(forest_fi.index, forest_fi_clear[:5].index))\n",
    "auc_forest_fi"
   ]
  },
  {
   "cell_type": "code",
   "execution_count": 41,
   "metadata": {},
   "outputs": [
    {
     "data": {
      "text/plain": [
       "0.7399919962744596"
      ]
     },
     "execution_count": 41,
     "metadata": {},
     "output_type": "execute_result"
    }
   ],
   "source": [
    "auc_booster_fi = n_features_auc(X_train, y_train, X_test, y_test, get_coded_indices(booster_fi.index, booster_fi_clear[:5].index))\n",
    "auc_booster_fi"
   ]
  },
  {
   "cell_type": "code",
   "execution_count": 42,
   "metadata": {},
   "outputs": [
    {
     "data": {
      "text/plain": [
       "0.7352576067560905"
      ]
     },
     "execution_count": 42,
     "metadata": {},
     "output_type": "execute_result"
    }
   ],
   "source": [
    "auc_iv = n_features_auc(X_train, y_train, X_test, y_test, get_coded_indices(information_values.index, information_values_clear[:5].index))\n",
    "auc_iv"
   ]
  },
  {
   "cell_type": "markdown",
   "metadata": {},
   "source": [
    "При отборе пяти признаков значение AUC выше при выборе на основании fiture importance от градиентного бустинга. Что логично, ведь в качестве фиксированной модели используется этот самый бустинг. AUC при отборе признаков на основании Information Value близок к предыдущему значению AUC."
   ]
  },
  {
   "cell_type": "markdown",
   "metadata": {},
   "source": [
    "## Домашнее Задание. Stacking.\n",
    "\n",
    "Попробовать стэкинг различных наборов моделей:\n",
    "* Одну и туже модель с разными гиперпараметрами параметрами (например, бустинг с разным количеством деревьев);\n",
    "* Разнообразные модели.\n",
    "\n",
    "Попробовать различные мета классификаторы и простое усреднение.\n",
    "\n",
    "Получилось ли за счет стэкинга улучшить качество?\n",
    "Какое метод дает большее качество на тесте?"
   ]
  },
  {
   "cell_type": "markdown",
   "metadata": {},
   "source": [
    "#### Попробуем три рандом фореста, в качестве мета класификатора используем бустинг и к ближайших соседей"
   ]
  },
  {
   "cell_type": "code",
   "execution_count": 43,
   "metadata": {},
   "outputs": [
    {
     "name": "stderr",
     "output_type": "stream",
     "text": [
      "[Parallel(n_jobs=-1)]: Done   3 out of   3 | elapsed:    2.1s finished\n",
      "[Parallel(n_jobs=-1)]: Done   3 out of   3 | elapsed:    2.8s finished\n",
      "[Parallel(n_jobs=-1)]: Done   3 out of   3 | elapsed:    3.3s finished\n"
     ]
    },
    {
     "data": {
      "text/html": [
       "<div>\n",
       "<style scoped>\n",
       "    .dataframe tbody tr th:only-of-type {\n",
       "        vertical-align: middle;\n",
       "    }\n",
       "\n",
       "    .dataframe tbody tr th {\n",
       "        vertical-align: top;\n",
       "    }\n",
       "\n",
       "    .dataframe thead th {\n",
       "        text-align: right;\n",
       "    }\n",
       "</style>\n",
       "<table border=\"1\" class=\"dataframe\">\n",
       "  <thead>\n",
       "    <tr style=\"text-align: right;\">\n",
       "      <th></th>\n",
       "      <th>forest1</th>\n",
       "      <th>forest2</th>\n",
       "      <th>forest3</th>\n",
       "    </tr>\n",
       "  </thead>\n",
       "  <tbody>\n",
       "    <tr>\n",
       "      <th>0</th>\n",
       "      <td>0.102538</td>\n",
       "      <td>0.122007</td>\n",
       "      <td>0.109109</td>\n",
       "    </tr>\n",
       "    <tr>\n",
       "      <th>1</th>\n",
       "      <td>0.300412</td>\n",
       "      <td>0.200074</td>\n",
       "      <td>0.232330</td>\n",
       "    </tr>\n",
       "    <tr>\n",
       "      <th>2</th>\n",
       "      <td>0.044420</td>\n",
       "      <td>0.054590</td>\n",
       "      <td>0.048256</td>\n",
       "    </tr>\n",
       "    <tr>\n",
       "      <th>3</th>\n",
       "      <td>0.104292</td>\n",
       "      <td>0.100839</td>\n",
       "      <td>0.104369</td>\n",
       "    </tr>\n",
       "    <tr>\n",
       "      <th>4</th>\n",
       "      <td>0.130704</td>\n",
       "      <td>0.122763</td>\n",
       "      <td>0.139661</td>\n",
       "    </tr>\n",
       "  </tbody>\n",
       "</table>\n",
       "</div>"
      ],
      "text/plain": [
       "    forest1   forest2   forest3\n",
       "0  0.102538  0.122007  0.109109\n",
       "1  0.300412  0.200074  0.232330\n",
       "2  0.044420  0.054590  0.048256\n",
       "3  0.104292  0.100839  0.104369\n",
       "4  0.130704  0.122763  0.139661"
      ]
     },
     "execution_count": 43,
     "metadata": {},
     "output_type": "execute_result"
    }
   ],
   "source": [
    "\n",
    "from sklearn.ensemble import RandomForestClassifier\n",
    "\n",
    "forest1 = RandomForestClassifier(n_estimators=10, max_depth = 4)\n",
    "forest2 = RandomForestClassifier(n_estimators=25, max_depth = 3)\n",
    "forest3 = RandomForestClassifier(n_estimators=50, max_depth = 4)\n",
    "\n",
    "meta_train = pd.DataFrame()\n",
    "meta_test = pd.DataFrame()\n",
    "\n",
    "meta_train['forest1'], meta_test['forest1'] = meta_feature(forest1, X_train, y_train, X_test, cv)\n",
    "meta_train['forest2'], meta_test['forest2'] = meta_feature(forest2, X_train, y_train, X_test, cv)\n",
    "meta_train['forest3'], meta_test['forest3'] = meta_feature(forest3, X_train, y_train, X_test, cv)\n",
    "\n",
    "meta_train.head()"
   ]
  },
  {
   "cell_type": "code",
   "execution_count": 56,
   "metadata": {},
   "outputs": [
    {
     "data": {
      "text/plain": [
       "0.751680234311513"
      ]
     },
     "execution_count": 56,
     "metadata": {},
     "output_type": "execute_result"
    }
   ],
   "source": [
    "meta_clf = GradientBoostingClassifier(learning_rate=0.05, n_estimators=15)\n",
    "meta_clf.fit(meta_train, y_train)\n",
    "\n",
    "# AUC при использовании мета класификатора градиентного бустинга\n",
    "roc_auc_score(y_test, meta_clf.predict_proba(meta_test)[:, 1])"
   ]
  },
  {
   "cell_type": "code",
   "execution_count": 67,
   "metadata": {},
   "outputs": [
    {
     "data": {
      "text/plain": [
       "0.7449509354814546"
      ]
     },
     "execution_count": 67,
     "metadata": {},
     "output_type": "execute_result"
    }
   ],
   "source": [
    "meta_clf = make_pipeline(StandardScaler(), KNeighborsClassifier(n_neighbors=500))\n",
    "meta_clf.fit(meta_train, y_train)\n",
    "\n",
    "# AUC при использовании мета класификатора k ближайших соседей\n",
    "roc_auc_score(y_test, meta_clf.predict_proba(meta_test)[:, 1])"
   ]
  },
  {
   "cell_type": "code",
   "execution_count": 68,
   "metadata": {},
   "outputs": [
    {
     "data": {
      "text/plain": [
       "forest1    0.751552\n",
       "forest2    0.748358\n",
       "forest3    0.753478\n",
       "dtype: float64"
      ]
     },
     "execution_count": 68,
     "metadata": {},
     "output_type": "execute_result"
    }
   ],
   "source": [
    "# Посмотрим на качество отдельных лесов\n",
    "meta_test.apply(lambda x: roc_auc_score(y_test, x))"
   ]
  },
  {
   "cell_type": "code",
   "execution_count": 50,
   "metadata": {},
   "outputs": [
    {
     "data": {
      "text/plain": [
       "0.7536859746905684"
      ]
     },
     "execution_count": 50,
     "metadata": {},
     "output_type": "execute_result"
    }
   ],
   "source": [
    "# Простое усреднение\n",
    "roc_auc_score(y_test, meta_test.mean(axis=1))"
   ]
  },
  {
   "cell_type": "markdown",
   "metadata": {},
   "source": [
    "##### Вывод\n",
    "При использовании в качестве метаклассификатора градиентного бустинга качество получилось не больше наилучшего рандом фореста, но и не хуже худшего.\n",
    "При использовании в качестве метаклассификатора метода k ближайших соседей качество ухудшилось.\n",
    "При использовании простого усреднения качество получилось лучше лучшего рандом фореста."
   ]
  },
  {
   "cell_type": "markdown",
   "metadata": {},
   "source": [
    "#### Попробуем три различных классификатора, в качестве мета класификатора используем рандом форест и градиентый бустинг"
   ]
  },
  {
   "cell_type": "code",
   "execution_count": 77,
   "metadata": {},
   "outputs": [
    {
     "name": "stderr",
     "output_type": "stream",
     "text": [
      "[Parallel(n_jobs=-1)]: Done   3 out of   3 | elapsed:    3.4s finished\n",
      "[Parallel(n_jobs=-1)]: Done   3 out of   3 | elapsed:    2.9s finished\n",
      "[Parallel(n_jobs=-1)]: Done   3 out of   3 | elapsed:    3.1s finished\n"
     ]
    },
    {
     "data": {
      "text/plain": [
       "c1    0.757679\n",
       "c2    0.749597\n",
       "c3    0.755031\n",
       "dtype: float64"
      ]
     },
     "execution_count": 77,
     "metadata": {},
     "output_type": "execute_result"
    }
   ],
   "source": [
    "from sklearn.ensemble import RandomForestClassifier\n",
    "from sklearn.ensemble import AdaBoostClassifier\n",
    "from sklearn.ensemble import ExtraTreesClassifier\n",
    "\n",
    "c1 = AdaBoostClassifier(n_estimators=50, learning_rate=0.1)\n",
    "c2 = ExtraTreesClassifier(n_estimators=60, max_depth = 6)\n",
    "c3 = RandomForestClassifier(n_estimators=50, max_depth = 4)\n",
    "\n",
    "meta_train = pd.DataFrame()\n",
    "meta_test = pd.DataFrame()\n",
    "\n",
    "meta_train['c1'], meta_test['c1'] = meta_feature(c1, X_train, y_train, X_test, cv)\n",
    "meta_train['c2'], meta_test['c2'] = meta_feature(c2, X_train, y_train, X_test, cv)\n",
    "meta_train['c3'], meta_test['c3'] = meta_feature(c3, X_train, y_train, X_test, cv)\n",
    "\n",
    "# Посмотрим на качество отдельных классификаторов\n",
    "meta_test.apply(lambda x: roc_auc_score(y_test, x))"
   ]
  },
  {
   "cell_type": "code",
   "execution_count": 78,
   "metadata": {},
   "outputs": [
    {
     "data": {
      "text/plain": [
       "0.7592266505257769"
      ]
     },
     "execution_count": 78,
     "metadata": {},
     "output_type": "execute_result"
    }
   ],
   "source": [
    "meta_clf = GradientBoostingClassifier(learning_rate=0.01, n_estimators=30)\n",
    "meta_clf.fit(meta_train, y_train)\n",
    "\n",
    "# AUC при использовании мета класификатора градиентного бустинга\n",
    "roc_auc_score(y_test, meta_clf.predict_proba(meta_test)[:, 1])"
   ]
  },
  {
   "cell_type": "code",
   "execution_count": 79,
   "metadata": {},
   "outputs": [
    {
     "data": {
      "text/plain": [
       "0.7606357074036539"
      ]
     },
     "execution_count": 79,
     "metadata": {},
     "output_type": "execute_result"
    }
   ],
   "source": [
    "meta_clf = RandomForestClassifier(n_estimators=50, max_depth = 4)\n",
    "meta_clf.fit(meta_train, y_train)\n",
    "\n",
    "# AUC при использовании мета класификатора градиентного бустинга\n",
    "roc_auc_score(y_test, meta_clf.predict_proba(meta_test)[:, 1])"
   ]
  },
  {
   "cell_type": "code",
   "execution_count": 80,
   "metadata": {},
   "outputs": [
    {
     "data": {
      "text/plain": [
       "0.7560407353844169"
      ]
     },
     "execution_count": 80,
     "metadata": {},
     "output_type": "execute_result"
    }
   ],
   "source": [
    "# Простое усреднение\n",
    "roc_auc_score(y_test, meta_test.mean(axis=1))"
   ]
  },
  {
   "cell_type": "markdown",
   "metadata": {},
   "source": [
    "##### Вывод\n",
    "При использовании в качестве метаклассификатора градиентного бустинга качество получилось лучше чем у каждого составляющего класификатора.\n",
    "При использовании в качестве метаклассификатора случайного леса качество получилось еще лучше чем у бустинга.\n",
    "При использовании простого усреднения качество получилось не больше наилучшего классификатора, но и не хуже худшего.\n",
    "\n",
    "##### Лучший способ\n",
    "Разные классификаторы {AdaBoost, ExtraTrees, RandomForest} и в качестве мета классификатора еще один RandomForest (AUC = ~0.76)"
   ]
  }
 ],
 "metadata": {
  "kernelspec": {
   "display_name": "Python 3",
   "language": "python",
   "name": "python3"
  },
  "language_info": {
   "codemirror_mode": {
    "name": "ipython",
    "version": 3
   },
   "file_extension": ".py",
   "mimetype": "text/x-python",
   "name": "python",
   "nbconvert_exporter": "python",
   "pygments_lexer": "ipython3",
   "version": "3.6.4"
  }
 },
 "nbformat": 4,
 "nbformat_minor": 2
}
