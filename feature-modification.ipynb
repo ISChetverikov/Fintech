{
 "cells": [
  {
   "cell_type": "markdown",
   "metadata": {},
   "source": [
    "# Кредитный скоринг\n",
    "\n",
    "В задаче кредитного скоринга чаще всего применяется логистическа регрессия, как алгоритм извлечения зависимости.  \n",
    "Из-за линейности модели важным является отбор и преобразования признаков.  \n",
    "В данном ноутбуке мы рассмотрим несколько подходов к преобразования признаков."
   ]
  },
  {
   "cell_type": "markdown",
   "metadata": {},
   "source": [
    "---\n",
    "# Загружаем выборку с данными\n",
    "\n",
    "Выборка содержит заявки на кредит и поля:\n",
    "* `application_date` - дата обработки заявки\n",
    "* `default_flg` - факт наличия дефолта\n",
    "* `f*, v*, d*` - признаки заявки"
   ]
  },
  {
   "cell_type": "code",
   "execution_count": 2,
   "metadata": {},
   "outputs": [
    {
     "data": {
      "text/html": [
       "<div>\n",
       "<style scoped>\n",
       "    .dataframe tbody tr th:only-of-type {\n",
       "        vertical-align: middle;\n",
       "    }\n",
       "\n",
       "    .dataframe tbody tr th {\n",
       "        vertical-align: top;\n",
       "    }\n",
       "\n",
       "    .dataframe thead th {\n",
       "        text-align: right;\n",
       "    }\n",
       "</style>\n",
       "<table border=\"1\" class=\"dataframe\">\n",
       "  <thead>\n",
       "    <tr style=\"text-align: right;\">\n",
       "      <th></th>\n",
       "      <th>default_flg</th>\n",
       "      <th>application_date</th>\n",
       "      <th>f1</th>\n",
       "      <th>f2</th>\n",
       "      <th>f3</th>\n",
       "      <th>f4</th>\n",
       "      <th>v1</th>\n",
       "      <th>v2</th>\n",
       "      <th>v3</th>\n",
       "      <th>d1</th>\n",
       "      <th>d2</th>\n",
       "    </tr>\n",
       "  </thead>\n",
       "  <tbody>\n",
       "    <tr>\n",
       "      <th>0</th>\n",
       "      <td>0</td>\n",
       "      <td>2015-10-27</td>\n",
       "      <td>2.0</td>\n",
       "      <td>49.0</td>\n",
       "      <td>60000.00</td>\n",
       "      <td>0.551720</td>\n",
       "      <td>1219.487337</td>\n",
       "      <td>21766.081065</td>\n",
       "      <td>2.0</td>\n",
       "      <td>0.047946</td>\n",
       "      <td>0.000000</td>\n",
       "    </tr>\n",
       "    <tr>\n",
       "      <th>1</th>\n",
       "      <td>1</td>\n",
       "      <td>2015-11-09</td>\n",
       "      <td>2.0</td>\n",
       "      <td>50.0</td>\n",
       "      <td>59365.20</td>\n",
       "      <td>0.379425</td>\n",
       "      <td>740.270898</td>\n",
       "      <td>11276.991322</td>\n",
       "      <td>2.0</td>\n",
       "      <td>-0.210390</td>\n",
       "      <td>0.377392</td>\n",
       "    </tr>\n",
       "    <tr>\n",
       "      <th>2</th>\n",
       "      <td>0</td>\n",
       "      <td>2015-05-07</td>\n",
       "      <td>2.0</td>\n",
       "      <td>18.0</td>\n",
       "      <td>43764.35</td>\n",
       "      <td>-0.260096</td>\n",
       "      <td>539.627752</td>\n",
       "      <td>11974.353651</td>\n",
       "      <td>0.0</td>\n",
       "      <td>-0.176838</td>\n",
       "      <td>0.426828</td>\n",
       "    </tr>\n",
       "    <tr>\n",
       "      <th>3</th>\n",
       "      <td>0</td>\n",
       "      <td>2015-11-15</td>\n",
       "      <td>2.0</td>\n",
       "      <td>60.0</td>\n",
       "      <td>60000.00</td>\n",
       "      <td>-0.522040</td>\n",
       "      <td>1046.368464</td>\n",
       "      <td>11772.704811</td>\n",
       "      <td>2.0</td>\n",
       "      <td>-0.213644</td>\n",
       "      <td>0.340425</td>\n",
       "    </tr>\n",
       "    <tr>\n",
       "      <th>4</th>\n",
       "      <td>0</td>\n",
       "      <td>2015-03-16</td>\n",
       "      <td>2.0</td>\n",
       "      <td>18.0</td>\n",
       "      <td>41637.74</td>\n",
       "      <td>0.179889</td>\n",
       "      <td>786.084579</td>\n",
       "      <td>14096.999560</td>\n",
       "      <td>2.0</td>\n",
       "      <td>-0.230048</td>\n",
       "      <td>0.472925</td>\n",
       "    </tr>\n",
       "  </tbody>\n",
       "</table>\n",
       "</div>"
      ],
      "text/plain": [
       "   default_flg application_date   f1    f2        f3        f4           v1  \\\n",
       "0            0       2015-10-27  2.0  49.0  60000.00  0.551720  1219.487337   \n",
       "1            1       2015-11-09  2.0  50.0  59365.20  0.379425   740.270898   \n",
       "2            0       2015-05-07  2.0  18.0  43764.35 -0.260096   539.627752   \n",
       "3            0       2015-11-15  2.0  60.0  60000.00 -0.522040  1046.368464   \n",
       "4            0       2015-03-16  2.0  18.0  41637.74  0.179889   786.084579   \n",
       "\n",
       "             v2   v3        d1        d2  \n",
       "0  21766.081065  2.0  0.047946  0.000000  \n",
       "1  11276.991322  2.0 -0.210390  0.377392  \n",
       "2  11974.353651  0.0 -0.176838  0.426828  \n",
       "3  11772.704811  2.0 -0.213644  0.340425  \n",
       "4  14096.999560  2.0 -0.230048  0.472925  "
      ]
     },
     "execution_count": 2,
     "metadata": {},
     "output_type": "execute_result"
    }
   ],
   "source": [
    "import pandas as pd\n",
    "import numpy as np\n",
    "\n",
    "%matplotlib inline\n",
    "\n",
    "url_data = 'https://www.dropbox.com/s/vs9daqt83j8kfqf/feature_transformation.csv?dl=1'\n",
    "df = pd.read_csv(url_data, parse_dates=['application_date'])\n",
    "df.head()"
   ]
  },
  {
   "cell_type": "markdown",
   "metadata": {},
   "source": [
    "Мы будем извлекать зависимость между признаками и целевой переменной.   \n",
    "Для валидации модели необходимо разбить выборку на две части по дате обработки заявки:\n",
    "* обучающая выборка - заявки с датой подачи заявки ранее '2015-08-01'\n",
    "* тестовая выборка - заявки с датой подачи начиная с '2015-08-01'\n",
    "\n",
    "**Задание 1. Разбейте выборку на две части и посчитайте количество объектов в каждой выборке**"
   ]
  },
  {
   "cell_type": "code",
   "execution_count": 3,
   "metadata": {},
   "outputs": [
    {
     "name": "stdout",
     "output_type": "stream",
     "text": [
      "Обучающая выборка:  29924\n",
      "Тестовая выборка :  20076\n"
     ]
    }
   ],
   "source": [
    "features = ['f1','f2','f3','f4','v1','v2', 'v3','d1', 'd2']\n",
    "\n",
    "X_train = df.query('application_date <= \"2015-08-01\"')[features]\n",
    "\n",
    "# <вставить код> для тетовой выбоки и целевой переменной\n",
    "X_test = df.query('application_date > \"2015-08-01\"')[features]\n",
    "y_test = df.query('application_date > \"2015-08-01\"')['default_flg']\n",
    "y_train = df.query('application_date <= \"2015-08-01\"')['default_flg']\n",
    "\n",
    "assert len(X_train) == len(y_train) and len(X_test) == len(y_test)\n",
    "print('Обучающая выборка: ', len(X_train))\n",
    "print('Тестовая выборка : ', len(X_test))"
   ]
  },
  {
   "cell_type": "markdown",
   "metadata": {},
   "source": [
    "---\n",
    "# Подбор коэффициента регуляризации для логистической регресии\n",
    "\n",
    "Для извлечения зависимости будем использовать [логистическую регрессию](http://scikit-learn.org/stable/modules/generated/sklearn.linear_model.LogisticRegression.html) с l2 регуляризацией.  \n",
    "\n",
    "**Задание 2.**  \n",
    "    Переберите коэффициент регуляризации в интервале от $10^{-3}$ до $10^{3}$.  \n",
    "    Постройте график зависимости качества AUC на тестовой выборке от коэфиициента регуляризации и найдите оптимальное значение."
   ]
  },
  {
   "cell_type": "code",
   "execution_count": 4,
   "metadata": {},
   "outputs": [
    {
     "name": "stdout",
     "output_type": "stream",
     "text": [
      "AUC    0.615714\n",
      "dtype: float64\n",
      "Best C:  75.41169795013816\n"
     ]
    },
    {
     "data": {
      "image/png": "[encoded data removed]",
      "text/plain": [
       "<matplotlib.figure.Figure at 0x2afa4fecb70>"
      ]
     },
     "metadata": {},
     "output_type": "display_data"
    }
   ],
   "source": [
    "from sklearn.linear_model import LogisticRegression\n",
    "from sklearn.metrics import roc_auc_score\n",
    "\n",
    "metrics = pd.DataFrame(columns=['AUC'], index=pd.Series(name='C'))\n",
    "\n",
    "for C in np.logspace(-3, 3, num=2000, endpoint=True):  # <изменить диапазон подбора коэффициента C>\n",
    "    clf = LogisticRegression(C=C)   \n",
    "    clf.fit(X_train, y_train)\n",
    "    y_pred = clf.predict_proba(X_test)[:, 1]\n",
    "    auc = roc_auc_score(y_test, y_pred)\n",
    "    metrics.loc[C] = auc\n",
    "print(metrics.max())\n",
    "C_best = metrics.AUC.idxmax()\n",
    "print('Best C: ', C_best)\n",
    "metrics.plot(logx=True);"
   ]
  },
  {
   "cell_type": "markdown",
   "metadata": {},
   "source": [
    "---\n",
    "# Нормализация признаков\n",
    "\n",
    "Так как l2 регуляризация одинакого штрафует все признаки, то имеет смысл нормировать их все таким образом, чтобы стандартное отклонение равнялось 1 у всех признаков. Для этого можно воспользоваться [`StandardScaler`](http://scikit-learn.org/stable/modules/generated/sklearn.preprocessing.StandardScaler.html).\n",
    "\n",
    "Нормализовывать признаки стоит исходя из обучающей выборки, чтобы избегать переобучения.  \n",
    "Для удобства трансформирования выборки В scikit-learn есть объекты [transformation](http://scikit-learn.org/stable/data_transforms.html), которые только преобразуют наборы признаков.  \n",
    "\n",
    "Так же есть возможность объединять трансформации и модель в единый [пайплайн](http://scikit-learn.org/stable/modules/pipeline.html)\n",
    "```python\n",
    "classificator = make_pipeline(\n",
    "    transformator_1,\n",
    "  ...\n",
    "    transformator_2,\n",
    "    classifier\n",
    ")\n",
    "```\n",
    "\n",
    "При обучении будут подряд обучаться и применятся трансформаторы transformator_1 ... transformator_k, а затем на полученных признаках обучаться модель.  \n",
    "Данный подход удобен тем, что позволяет не изменять исходные выборки признаков и избежать ошибки с дублированием преобразований для обучающей и тестовой выборках.\n",
    "\n",
    "\n",
    "**Задание 3.**  \n",
    "\n",
    "  Произведите нормализацию признаков и опять подберите коэфиициент C.  \n",
    "  Каким образом изменилось качество на тестовой выборке?  \n",
    "  Запомните лучшее значение коэффициента регуляризации и затем используйте его."
   ]
  },
  {
   "cell_type": "code",
   "execution_count": 5,
   "metadata": {},
   "outputs": [
    {
     "name": "stdout",
     "output_type": "stream",
     "text": [
      "AUC    0.700604\n",
      "dtype: float64\n",
      "Best C:  170.30650292528426\n"
     ]
    },
    {
     "data": {
      "image/png": "[encoded data removed]",
      "text/plain": [
       "<matplotlib.figure.Figure at 0x2afa52f6c88>"
      ]
     },
     "metadata": {},
     "output_type": "display_data"
    }
   ],
   "source": [
    "from sklearn.preprocessing import StandardScaler\n",
    "from sklearn.pipeline import make_pipeline\n",
    "\n",
    "\n",
    "# <вставить код>\n",
    "# clf = make_pipeline(StandardScaler(), LogisticRegression(C=C))\n",
    "metrics = pd.DataFrame(columns=['AUC'], index=pd.Series(name='C'))\n",
    "\n",
    "for C in np.logspace(-3, 3, num=1000, endpoint=True):  # <изменить диапазон подбора коэффициента C>\n",
    "    clf = make_pipeline(StandardScaler(), LogisticRegression(C=C))\n",
    "    clf.fit(X_train, y_train)\n",
    "    y_pred = clf.predict_proba(X_test)[:, 1]\n",
    "    auc = roc_auc_score(y_test, y_pred)\n",
    "    metrics.loc[C] = auc\n",
    "print(metrics.max())\n",
    "C_best = metrics.AUC.idxmax()\n",
    "print('Best C: ', C_best)\n",
    "metrics.plot(logx=True);\n"
   ]
  },
  {
   "cell_type": "markdown",
   "metadata": {},
   "source": [
    "---\n",
    "# Нормализация WoE\n",
    "\n",
    "Влияние некоторых признаков на целевую переменную может быть нелинейным с точки зрения WoE.  \n",
    "Поэтому имеет смысл преобразовать признаки таким образом, чтобы зависимость стала линейной.\n",
    "\n",
    "**Задание 4.**  \n",
    "  Преобразуйте часть признаков таким образом, чтобы график зависимости WoE стал более линейным.  \n",
    "  Посчитайте качество логистической регрессии после такой нормализации."
   ]
  },
  {
   "cell_type": "code",
   "execution_count": 15,
   "metadata": {},
   "outputs": [],
   "source": [
    "from scipy.special import logit\n",
    "\n",
    "def woe_line(feature, target, num_bucket=10):\n",
    "    \"\"\"Подсчет зависимости WoE от среднего значения признака в бакете\"\"\"\n",
    "    \n",
    "    data = pd.DataFrame({'target': target, 'feature': feature})\n",
    "    data['bucket'] = pd.qcut(feature, q=num_bucket, duplicates='drop')\n",
    "    data['obj_count'] = 1\n",
    "    \n",
    "    target_mean = data['target'].mean()\n",
    "    total_count = data['obj_count'].sum()\n",
    "    \n",
    "    data_agg = data.groupby('bucket').agg({'target': 'mean', 'feature': 'mean', 'obj_count': 'sum'})\n",
    "    \n",
    "    data_agg['target'] = np.clip(data_agg['target'], 0.001, 0.999)\n",
    "    data_agg['woe'] = logit(data_agg['target']) - logit(target_mean)\n",
    "    \n",
    "    return data_agg[['feature', 'woe']]"
   ]
  },
  {
   "cell_type": "code",
   "execution_count": 45,
   "metadata": {},
   "outputs": [
    {
     "data": {
      "image/png": "[encoded data removed]",
      "text/plain": [
       "<matplotlib.figure.Figure at 0x2afa5655e80>"
      ]
     },
     "metadata": {},
     "output_type": "display_data"
    }
   ],
   "source": [
    "# Пример рисования зависимости woe от значений признака exp(f4)\n",
    "woe_line(X_train['d2'], y_train).plot(kind='scatter', x='feature', y='woe', grid=True);"
   ]
  },
  {
   "cell_type": "code",
   "execution_count": 56,
   "metadata": {},
   "outputs": [
    {
     "name": "stdout",
     "output_type": "stream",
     "text": [
      "0.7094416282837188\n"
     ]
    }
   ],
   "source": [
    "from sklearn.preprocessing import FunctionTransformer\n",
    "\n",
    "def feature_modification(X):\n",
    "    \"\"\"Функция модифицирования признаков\"\"\"\n",
    "    X = pd.DataFrame(X, columns=X_train.columns).copy()\n",
    "    \n",
    "    # <вставить код с модификацией признаков>\n",
    "    # Пример преобразования\n",
    "   \n",
    "    X['v1'] = np.log(X['v1'])\n",
    "    X['v2'] = np.log10(X['v2'])\n",
    "    \n",
    "    return X\n",
    "\n",
    "\n",
    "metrics = pd.DataFrame(columns=['AUC'], index=pd.Series(name='C'))\n",
    "\n",
    "clf = make_pipeline(\n",
    "    FunctionTransformer(feature_modification),\n",
    "    StandardScaler(),\n",
    "    LogisticRegression(C=C_best)\n",
    ")\n",
    "    \n",
    "clf.fit(X_train, y_train)\n",
    "y_pred = clf.predict_proba(X_test)[:, 1]\n",
    "auc = roc_auc_score(y_test, y_pred)\n",
    "\n",
    "print(auc)"
   ]
  },
  {
   "cell_type": "markdown",
   "metadata": {},
   "source": [
    "---\n",
    "# Стабильность признаков\n",
    "\n",
    "Так как мы используем валидацию по времени, то некоторые признаки могут оказаться нестабильными и сильно изменять свое распределение.  \n",
    "Иногда исключение данных признаков из обучения положительно сказывается на качестве модели на отложенной выборке.\n",
    "\n",
    "**Задание 5.**  \n",
    "  Произвести анализ стабильности распределений признаков по времени. Попытаться выделить нестабильные признаки.  \n",
    "  Посчитать качество модели с исключенными нестабильными признаки."
   ]
  },
  {
   "cell_type": "code",
   "execution_count": 50,
   "metadata": {},
   "outputs": [],
   "source": [
    "def plot_distribution_stability(feature, date, num_buck=10, date_freq='M'):\n",
    "    \"\"\"Рисуем изменение распределения признака по времени\"\"\"\n",
    "    df = pd.DataFrame({'feature': feature, 'date': date})\n",
    "    df['feature_buck'] = pd.qcut(feature, q=num_buck, duplicates='drop')\n",
    "    df_agg = df.groupby([pd.Grouper(key='date', freq=date_freq), 'feature_buck']).size().unstack()\n",
    "    df_agg = df_agg.apply(lambda x: x / df_agg.sum(axis=1))\n",
    "    df_agg.plot(kind='bar', stacked=True).legend(bbox_to_anchor=(1, 1))"
   ]
  },
  {
   "cell_type": "code",
   "execution_count": 51,
   "metadata": {},
   "outputs": [
    {
     "data": {
      "image/png": "[encoded data removed]",
      "text/plain": [
       "<matplotlib.figure.Figure at 0x2afa525cba8>"
      ]
     },
     "metadata": {},
     "output_type": "display_data"
    }
   ],
   "source": [
    "# Пример рисования изменения распределения у признака 'f1'\n",
    "plot_distribution_stability(df['d1'], df['application_date'])"
   ]
  },
  {
   "cell_type": "code",
   "execution_count": 57,
   "metadata": {},
   "outputs": [
    {
     "name": "stdout",
     "output_type": "stream",
     "text": [
      "0.7340043372671532\n"
     ]
    }
   ],
   "source": [
    "def drop_features(X):\n",
    "    \"\"\"Функция отбрасывания части признаков\"\"\"\n",
    "    X = pd.DataFrame(X, columns=X_train.columns)\n",
    "    \n",
    "    # <вставить код>\n",
    "    X = X.drop(columns=['d1']) \n",
    "    X = X.drop(columns=['d2'])\n",
    "    \n",
    "    return X\n",
    "\n",
    "\n",
    "metrics = pd.DataFrame(columns=['AUC'], index=pd.Series(name='C'))\n",
    "\n",
    "\n",
    "clf = make_pipeline(\n",
    "    FunctionTransformer(feature_modification),\n",
    "    FunctionTransformer(drop_features),\n",
    "    StandardScaler(),\n",
    "    LogisticRegression(C=C_best),\n",
    ")\n",
    "    \n",
    "clf.fit(X_train, y_train)\n",
    "y_pred = clf.predict_proba(X_test)[:, 1]\n",
    "auc = roc_auc_score(y_test, y_pred)\n",
    "\n",
    "print(auc)"
   ]
  },
  {
   "cell_type": "raw",
   "metadata": {},
   "source": [
    "---\n",
    "# Вывод\n",
    "\n",
    "**Задание 6.**  \n",
    "  Сравните результаты преобразования и отборов признаков по качеству. Какие методы и почему дали прирост в качестве?  \n",
    "  Какие из них можно автоматизировать и каким образом? (В этом задании нужно только написать текст).\n",
    "  \n",
    "  Прирост AUC при нормировании признаков и дальнейшем использовании l2-регуляризации составил ~0,086.\n",
    "  Прирост AUC при попытках нормирования WoE составил ~0.008.\n",
    "  Прирост AUC при исключении нестабильных признаков составил ~0.025.\n",
    "  \n",
    "  Таким образом, лучшим методом из перечисленных оказался первый метод. При регуляризации штраф, накладываемый на коэффициенты, один на всех. Поэтому имеет смысл привести признаки в один диапазон. Этот метод в автоматизации не нуждается - коэффициент регуляризации и так подбирался автоматически.\n",
    "  Вторым по показанному результату стал метод исключения нестабильных признаков. Здесь исключаются признаки, распределение которых сильно меняется со временем. Этот метод можно автоматизировать - например, автоматическим удалением признаков таким образом, чтобы значение AUC возрастало как можно скорее.\n",
    "  И последним по эффективности методом стало нормирование WoE. Здесь метрика росла за счет того, что зависимость WoE от признака с помощью нелинейных преобразований становилась более линейной. Этот метод также можно автоматизировать - например, с помощью линейной регрессии можно подбирать полином наперед заданной степени, с помощью которого можно пробразовать признак так, чтобы его значения как можно ближе располагались к прямой линии(метод наименьших квадратов). \n",
    "  "
   ]
  }
 ],
 "metadata": {
  "kernelspec": {
   "display_name": "Python 3",
   "language": "python",
   "name": "python3"
  },
  "language_info": {
   "codemirror_mode": {
    "name": "ipython",
    "version": 3
   },
   "file_extension": ".py",
   "mimetype": "text/x-python",
   "name": "python",
   "nbconvert_exporter": "python",
   "pygments_lexer": "ipython3",
   "version": "3.6.4"
  }
 },
 "nbformat": 4,
 "nbformat_minor": 2
}
